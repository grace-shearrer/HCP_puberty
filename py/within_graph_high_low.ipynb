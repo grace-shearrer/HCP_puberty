{
 "cells": [
  {
   "cell_type": "code",
   "execution_count": 3,
   "metadata": {
    "hideCode": false,
    "hidePrompt": false
   },
   "outputs": [],
   "source": [
    "import networkx as nx\n",
    "import os\n",
    "import glob\n",
    "import pandas as pd\n",
    "import numpy as np\n",
    "from scipy import stats\n",
    "import seaborn as sns\n",
    "import pickle\n",
    "import networkx as nx\n",
    "import matplotlib as mlp\n",
    "mlp.use(\"Qt5Agg\")\n",
    "import matplotlib.pyplot as plt\n",
    "import community\n",
    "import scipy\n",
    "import bct"
   ]
  },
  {
   "cell_type": "markdown",
   "metadata": {
    "hideCode": false,
    "hidePrompt": false
   },
   "source": [
    "# Functions"
   ]
  },
  {
   "cell_type": "markdown",
   "metadata": {
    "hideCode": false,
    "hidePrompt": false
   },
   "source": [
    "### Function to threshold graphs"
   ]
  },
  {
   "cell_type": "code",
   "execution_count": 4,
   "metadata": {
    "hideCode": false,
    "hidePrompt": false
   },
   "outputs": [],
   "source": [
    "def threshold(G, corr_direction):\n",
    "    ##Creates a copy of the graph\n",
    "    H = G.copy()\n",
    "    for stock1, stock2, weight in list(G.edges(data=True)):\n",
    "        if corr_direction == \"positive\":\n",
    "            if weight[\"weight\"] <0:\n",
    "                H.remove_edge(stock1, stock2)\n",
    "        else:\n",
    "            if weight[\"weight\"] >=0:\n",
    "                H.remove_edge(stock1, stock2)\n",
    "    return(H)"
   ]
  },
  {
   "cell_type": "markdown",
   "metadata": {
    "hideCode": false,
    "hidePrompt": false
   },
   "source": [
    "### Function to unpickle data"
   ]
  },
  {
   "cell_type": "code",
   "execution_count": 5,
   "metadata": {
    "hideCode": false,
    "hidePrompt": false
   },
   "outputs": [],
   "source": [
    "def onetoughjar(path2dic):\n",
    "    with open(path2dic, 'rb') as pickle_file:\n",
    "        try:\n",
    "            while True:\n",
    "                output = pickle.load(pickle_file)\n",
    "        except EOFError:\n",
    "            pass\n",
    "    return(output)"
   ]
  },
  {
   "cell_type": "markdown",
   "metadata": {
    "hideCode": false,
    "hidePrompt": false
   },
   "source": [
    "### Function to create graphs of all the nodes"
   ]
  },
  {
   "cell_type": "code",
   "execution_count": 6,
   "metadata": {
    "hideCode": false,
    "hidePrompt": false
   },
   "outputs": [],
   "source": [
    "def grace_graph(graph, group,labels):\n",
    "    G=graph\n",
    "    positions = nx.circular_layout(G)\n",
    "    size = 100\n",
    "    title= \"Modularity and edge weights \\n of average %s graph\"%(group)\n",
    "    save=\"%s_graph.png\"%(group)\n",
    "    \n",
    "    edges,weights = zip(*nx.get_edge_attributes(G, 'weight').items())\n",
    "\n",
    "    nodes, color = zip(*nx.get_node_attributes(G, 'modules').items()) #if your modules are named different change here\n",
    "    # nodes, names = zip(*nx.get_node_attributes(graph, 'label').items()) #if your modules are named different change here\n",
    "    \n",
    "    #Figure size\n",
    "    plt.figure(figsize=(80,50))\n",
    "\n",
    "    #draws nodes\n",
    "    color = np.array(color)\n",
    "    n_color=len(list(set(color)))\n",
    "    # nColormap=plt.cm.Set3 #check here if you want different colors https://matplotlib.org/3.1.1/gallery/color/colormap_reference.html\n",
    "    cM=color.max()\n",
    "    cm=color.min()\n",
    "    # get discrete colormap\n",
    "    nColormap = plt.get_cmap('Set3', n_color)\n",
    "\n",
    "    # scaling\n",
    "    sz=np.array(size)\n",
    "    scale=15000/sz.max()\n",
    "    sza=sz*scale\n",
    "    # print(sz.shape)\n",
    "\n",
    "    y=nx.draw_networkx_nodes(G,positions,\n",
    "                           node_color=color,\n",
    "                           node_size=sza,\n",
    "                           alpha=0.8,\n",
    "                           cmap= nColormap,\n",
    "                           vmin=cm ,vmax=cM)\n",
    "\n",
    "    #Styling for labels\n",
    "    if labels == \"yes\":\n",
    "        nx.draw_networkx_labels(G, positions,\n",
    "                                labels = label_dict,\n",
    "                                font_size=50,\n",
    "                                font_family='sans-serif',\n",
    "                                fontweight = 'bold')\n",
    "    else:\n",
    "        nx.draw_networkx_labels(G, positions,\n",
    "#                                 labels = label_dict,\n",
    "                                font_size=50,\n",
    "                                font_family='sans-serif',\n",
    "                                fontweight = 'bold')\n",
    "    #draw edges\n",
    "    weights=np.array(weights)\n",
    "    eColormap=plt.cm.gist_rainbow #check here if you want different colors https://matplotlib.org/3.1.1/gallery/color/colormap_reference.html\n",
    "    # scaling\n",
    "    wt=list(set(weights))\n",
    "    wt=np.array(wt)\n",
    "    wt2=-np.sort(-wt)\n",
    "    wt0=wt2[1]\n",
    "\n",
    "    escale=1/wt0\n",
    "    esza=weights*escale\n",
    "    E=list(set(esza))\n",
    "    E2=-np.sort(-np.array(E))\n",
    "    M=1\n",
    "    m=0\n",
    "\n",
    "    x=nx.draw_networkx_edges(G, positions,\n",
    "                           edge_list=edges,\n",
    "                           style='solid',\n",
    "                           width = np.square(esza)*20,\n",
    "                           edge_color = esza,\n",
    "                           edge_cmap=eColormap,\n",
    "                           edge_vmin=m,\n",
    "                           edge_vmax=M)\n",
    "\n",
    "    #COLORBAR STUFF\n",
    "    node_bar=plt.colorbar(y, label='Module value')\n",
    "\n",
    "    tick_locs = (np.arange(n_color) + 0.5)*(n_color-1)/n_color\n",
    "    node_bar.set_ticks(tick_locs)\n",
    "\n",
    "    # set tick labels (as before)\n",
    "    node_bar.set_ticklabels(np.arange(n_color))\n",
    "\n",
    "\n",
    "    sm = plt.cm.ScalarMappable(cmap=eColormap, norm=plt.Normalize(vmin = m, vmax=M))\n",
    "    sm._A = []\n",
    "    edge_bar=plt.colorbar(sm)\n",
    "\n",
    "    for l in edge_bar.ax.yaxis.get_ticklabels():\n",
    "        l.set_size(50)\n",
    "    for l in node_bar.ax.yaxis.get_ticklabels():\n",
    "        l.set_size(50)\n",
    "        l.set_verticalalignment('center')\n",
    "\n",
    "    node_bar.set_label('Modularity',fontsize = 50)\n",
    "    edge_bar.set_label('Strength of edge weight',fontsize = 50)\n",
    "    # Final plot stuff\n",
    "    plt.axis('off')\n",
    "\n",
    "    plt.title(title, fontsize = 100)\n",
    "    basepath='/Users/gracer/Google Drive/HCP_graph/1200/images'\n",
    "\n",
    "    plt.savefig(os.path.join(basepath,save), format=\"PNG\")\n",
    "    plt.show()\n",
    "    return()"
   ]
  },
  {
   "cell_type": "code",
   "execution_count": 7,
   "metadata": {
    "hideCode": false,
    "hidePrompt": false
   },
   "outputs": [],
   "source": [
    "def module_fig(G, group, IC):\n",
    "    edges,weights = zip(*nx.get_edge_attributes(G,'weight').items())\n",
    "    #nodes, size = zip(*nx.get_node_attributes(G,'clustering').items())\n",
    "\n",
    "    positions=nx.circular_layout(G)\n",
    "    plt.figure(figsize=(80,50))\n",
    "    ### NODES ####\n",
    "    color = np.array(list(G.nodes))\n",
    "    color = np.array(color)\n",
    "    n_color=len(list(set(color)))\n",
    "    nColormap = plt.get_cmap('Set3', n_color)\n",
    "\n",
    "    y=nx.draw_networkx_nodes(G,positions,\n",
    "                           node_color=color,\n",
    "                           node_size=15000,\n",
    "                           alpha=1.0,\n",
    "                           cmap= nColormap,\n",
    "                           vmin=0,vmax=n_color )\n",
    "\n",
    "    #Styling for labels\n",
    "    nx.draw_networkx_labels(G, positions, font_size=100,\n",
    "                            font_family='sans-serif', fontweight = 'bold')\n",
    "    \n",
    "    ### EDGES ####\n",
    "    weights=np.array(weights)\n",
    "\n",
    "    m=weights.min()\n",
    "    M=weights.max()\n",
    "    \n",
    "    eColormap=plt.cm.gist_rainbow\n",
    "    \n",
    "    x=nx.draw_networkx_edges(G, positions, \n",
    "                             edge_list=edges,\n",
    "                             style='solid', \n",
    "                             width = weights,\n",
    "                             edge_color = weights, \n",
    "                             edge_vmin=m, \n",
    "                             edge_vmax=M, \n",
    "                             edge_cmap= eColormap)\n",
    "\n",
    "    \n",
    "    node_bar=plt.colorbar(y, label='Module value')\n",
    "    \n",
    "    tick_locs = (np.arange(n_color) + 0.5)*(n_color-1)/n_color\n",
    "    node_bar.set_ticks(tick_locs)\n",
    "\n",
    "    # set tick labels (as before)\n",
    "    node_bar.set_ticklabels(np.arange(n_color))\n",
    "\n",
    "\n",
    "    sm = plt.cm.ScalarMappable(cmap=eColormap, norm=plt.Normalize(vmin = m, vmax=M))\n",
    "    sm._A = []\n",
    "    edge_bar=plt.colorbar(sm)\n",
    "\n",
    "    for l in edge_bar.ax.yaxis.get_ticklabels():\n",
    "        l.set_size(50)\n",
    "    for l in node_bar.ax.yaxis.get_ticklabels():\n",
    "        l.set_size(50)\n",
    "        l.set_verticalalignment('center')\n",
    "\n",
    "    node_bar.set_label('Modularity',fontsize = 50)\n",
    "    edge_bar.set_label('Strength of edge weight',fontsize = 50)\n",
    "    \n",
    "    plt.title(\"Module Connectivity Weights %s %s\"%(group, IC), fontsize = 100)\n",
    "    plt.axis('off')\n",
    "    basepath='/Users/gracer/Google Drive/HCP_graph/1200/images'\n",
    "#     plt.savefig(os.path.join(basepath,\"modularity_%s.png\"%(Type)), format=\"PNG\")\n",
    "    # plt.show()"
   ]
  },
  {
   "cell_type": "markdown",
   "metadata": {
    "hideCode": false,
    "hidePrompt": false
   },
   "source": [
    "### Function to create communities"
   ]
  },
  {
   "cell_type": "code",
   "execution_count": 8,
   "metadata": {
    "hideCode": false,
    "hidePrompt": false
   },
   "outputs": [],
   "source": [
    "def com_create(mu):\n",
    "    partition = community.best_partition(mu)\n",
    "    vals = list(partition.values())\n",
    "    nx.set_node_attributes(mu, partition, 'modules')\n",
    "    return((partition,vals, mu))"
   ]
  },
  {
   "cell_type": "markdown",
   "metadata": {
    "hideCode": false,
    "hidePrompt": false
   },
   "source": [
    "### Function to generate p values"
   ]
  },
  {
   "cell_type": "code",
   "execution_count": 9,
   "metadata": {
    "hideCode": false,
    "hidePrompt": false
   },
   "outputs": [],
   "source": [
    "from scipy.stats import pearsonr\n",
    "import pandas as pd\n",
    "\n",
    "def calculate_pvalues(df):\n",
    "    df = df.dropna()._get_numeric_data()\n",
    "    dfcols = pd.DataFrame(columns=df.columns)\n",
    "    pvalues = dfcols.transpose().join(dfcols, how='outer')\n",
    "    for r in df.columns:\n",
    "        for c in df.columns:\n",
    "            pvalues[r][c] = round(pearsonr(df[r], df[c])[1], 4)\n",
    "    return pvalues"
   ]
  },
  {
   "cell_type": "markdown",
   "metadata": {
    "hideCode": false,
    "hidePrompt": false
   },
   "source": [
    "### Function to visualize the module graphs"
   ]
  },
  {
   "cell_type": "code",
   "execution_count": 10,
   "metadata": {
    "hideCode": false,
    "hidePrompt": false
   },
   "outputs": [],
   "source": [
    "def inmod_graph(graph, group):\n",
    "#     graph=threshold(graph,dirp,minp)\n",
    "    e,w = zip(*nx.get_edge_attributes(graph, 'weight').items())\n",
    "    positions = nx.circular_layout(graph)\n",
    "    size = 100\n",
    "    title= \"Modularity and edge weights \\n of average %s graph\"%(group)\n",
    "    save=\"%s_graph.png\"%(group)\n",
    "    \n",
    "    edges,weights = zip(*nx.get_edge_attributes(graph, 'weight').items())\n",
    "\n",
    "    nodes, color = zip(*nx.get_node_attributes(graph, 'modules').items()) #if your modules are named different change here\n",
    "    # nodes, names = zip(*nx.get_node_attributes(graph, 'label').items()) #if your modules are named different change here\n",
    "    g=graph\n",
    "    #Figure size\n",
    "    plt.figure(figsize=(80,50))\n",
    "\n",
    "    #draws nodes\n",
    "    color = np.array(color)\n",
    "    n_color=len(list(set(color)))\n",
    "    # nColormap=plt.cm.Set3 #check here if you want different colors https://matplotlib.org/3.1.1/gallery/color/colormap_reference.html\n",
    "    cM=color.max()\n",
    "    cm=color.min()\n",
    "    # get discrete colormap\n",
    "    nColormap = plt.get_cmap('Set3', n_color)\n",
    "\n",
    "    # scaling\n",
    "    sz=np.array(size)\n",
    "    scale=15000/sz.max()\n",
    "    sza=sz*scale\n",
    "    # print(sz.shape)\n",
    "\n",
    "    y=nx.draw_networkx_nodes(g,positions,\n",
    "                           node_color=color,\n",
    "                           node_size=sza,\n",
    "                           alpha=0.8,\n",
    "                           cmap= nColormap,\n",
    "                           vmin=cm ,vmax=cM)\n",
    "\n",
    "    #Styling for labels\n",
    "    nx.draw_networkx_labels(g, positions,\n",
    "                            # labels = label_dict,\n",
    "                            font_size=50,\n",
    "                            font_family='sans-serif',\n",
    "                            fontweight = 'bold')\n",
    "\n",
    "    #draw edges\n",
    "    weights=np.array(weights)\n",
    "    eColormap=plt.cm.gist_rainbow #check here if you want different colors https://matplotlib.org/3.1.1/gallery/color/colormap_reference.html\n",
    "#     # scaling\n",
    "#     wt=list(set(weights))\n",
    "#     wt=np.array(wt)\n",
    "#     wt2=-np.sort(-wt)\n",
    "#     wt0=wt2[1]\n",
    "\n",
    "#     escale=1/wt0\n",
    "#     esza=weights*escale\n",
    "#     E=list(set(esza))\n",
    "#     E2=-np.sort(-np.array(E))\n",
    "    M=1\n",
    "    m=-1\n",
    "\n",
    "    x=nx.draw_networkx_edges(g, positions,\n",
    "                           edge_list=edges,\n",
    "                           style='solid',\n",
    "                           width = np.square(weights)*100,\n",
    "                           edge_color = weights,\n",
    "                           edge_cmap=eColormap,\n",
    "                           edge_vmin=m,\n",
    "                           edge_vmax=M)\n",
    "\n",
    "    #COLORBAR STUFF\n",
    "    node_bar=plt.colorbar(y, label='Module value')\n",
    "\n",
    "    tick_locs = (np.arange(n_color) + 0.5)*(n_color-1)/n_color\n",
    "    node_bar.set_ticks(tick_locs)\n",
    "\n",
    "    # set tick labels (as before)\n",
    "    node_bar.set_ticklabels(np.arange(n_color))\n",
    "\n",
    "\n",
    "    sm = plt.cm.ScalarMappable(cmap=eColormap, norm=plt.Normalize(vmin = m, vmax=M))\n",
    "    sm._A = []\n",
    "    edge_bar=plt.colorbar(sm)\n",
    "\n",
    "    for l in edge_bar.ax.yaxis.get_ticklabels():\n",
    "        l.set_size(50)\n",
    "    for l in node_bar.ax.yaxis.get_ticklabels():\n",
    "        l.set_size(50)\n",
    "        l.set_verticalalignment('center')\n",
    "\n",
    "    node_bar.set_label('Modularity',fontsize = 50)\n",
    "    edge_bar.set_label('Strength of edge weight',fontsize = 50)\n",
    "    # Final plot stuff\n",
    "    plt.axis('off')\n",
    "\n",
    "    plt.title(title, fontsize = 100)\n",
    "    basepath='/Users/gracer/Google Drive/HCP_graph/1200/images'\n",
    "\n",
    "    plt.savefig(os.path.join(basepath,save), format=\"PNG\")\n",
    "    plt.show()\n",
    "    return()"
   ]
  },
  {
   "cell_type": "markdown",
   "metadata": {
    "hideCode": false,
    "hidePrompt": false
   },
   "source": [
    "### Function to look at the p values quickly"
   ]
  },
  {
   "cell_type": "code",
   "execution_count": 11,
   "metadata": {
    "hideCode": false,
    "hidePrompt": false
   },
   "outputs": [],
   "source": [
    "def skimP(mat):\n",
    "    mask = np.zeros_like(mat)\n",
    "    mask[np.triu_indices_from(mask)] = True\n",
    "    with sns.axes_style(\"white\"):\n",
    "        f, ax = plt.subplots(figsize=(14, 10))\n",
    "        ax = sns.heatmap(mat, mask=mask,annot=True, center=0.05,square=True, cmap='gist_ncar')\n",
    "#         ax.set_title(name)"
   ]
  },
  {
   "cell_type": "markdown",
   "metadata": {
    "hideCode": false,
    "hidePrompt": false
   },
   "source": [
    "### Function to generate graph and metrics"
   ]
  },
  {
   "cell_type": "code",
   "execution_count": 12,
   "metadata": {},
   "outputs": [],
   "source": [
    "# <ipython-input-134-6c1090e2f207> in module_degree_zscore(W, ci, flag)\n",
    "#      33     for i in range(1, int(np.max(ci) + 1)):\n",
    "#      34         Koi = np.sum(W[np.ix_(ci == i, ci == i)], axis=1)\n",
    "# ---> 35         Z[np.where(ci == i)] = (Koi - np.mean(Koi)) / np.std(Koi)\n",
    "#      36 \n",
    "#      37     Z[np.where(np.isnan(Z))] = 0\n",
    "\n",
    "# ValueError: shape mismatch: value array of shape (10,1) could not be broadcast to indexing result of shape (10,)\n",
    "\n"
   ]
  },
  {
   "cell_type": "code",
   "execution_count": 13,
   "metadata": {},
   "outputs": [],
   "source": [
    "def subgraph(value, group):\n",
    "    G=value['graphs']\n",
    "    mod=G.nodes(data=True)[group]['modules']\n",
    "    print(mod)\n",
    "    interest=[k for k,v in nx.get_node_attributes(G, 'modules').items() if v == mod]\n",
    "    print(interest)\n",
    "    X=nx.subgraph(G, interest)"
   ]
  },
  {
   "cell_type": "code",
   "execution_count": 14,
   "metadata": {
    "hideCode": false,
    "hidePrompt": false
   },
   "outputs": [],
   "source": [
    "def mu_make_graphs(key, values, direction):\n",
    "    ########################################\n",
    "    cor_matrix = np.asmatrix(values)\n",
    "    G = nx.from_numpy_matrix(cor_matrix)\n",
    "    ########################################\n",
    "    tG = threshold(G, direction)\n",
    "    if len(list(tG.edges(data=True))) > 0:\n",
    "        if direction == 'negative':\n",
    "            print('start negative')\n",
    "            edges,weights = zip(*nx.get_edge_attributes(tG,'weight').items())\n",
    "            wts=tuple(abs(np.array(weights)))\n",
    "            total=[]\n",
    "            for x in enumerate(edges):\n",
    "                y={'weight':wts[x[0]]}\n",
    "                total.append(x[1]+(y,))\n",
    "            tG.add_edges_from(total)\n",
    "\n",
    "        ########################################\n",
    "        (partition,vals,graph)=com_create(tG)\n",
    "        nx.set_node_attributes(tG, partition, 'modules')\n",
    "        ########################################\n",
    "        x=abs(cor_matrix)\n",
    "        mu=x.mean()\n",
    "        ########################################\n",
    "#         PC = participation_coef(nx.to_numpy_matrix(tG), vals, 'undirected')\n",
    "        ########################################\n",
    "        zDegree=nx.module_degree_zscore(nx.to_numpy_matrix(tG), vals, flag=0)\n",
    "        ########################################\n",
    "        clustering = nx.clustering(tG, weight=True)\n",
    "        ########################################\n",
    "        centrality = nx.betweenness_centrality(tG, weight=True)\n",
    "        ########################################\n",
    "        nx.set_node_attributes(tG, centrality, 'centrality')\n",
    "        nx.set_node_attributes(tG, clustering, 'clustering')\n",
    "        nx.set_node_attributes(tG, partition, 'modules')\n",
    "#         PCd = {el:PC[el].mean() for el in range(len(PC))}\n",
    "#         nx.set_node_attributes(tG, PCd, 'PC')\n",
    "        zDd = {el:zDegree[el][0] for el in range(len(zDegree))}\n",
    "        nx.set_node_attributes(tG, zDd, 'zDegree')\n",
    "        stocks = values.index.values\n",
    "        tG = nx.relabel_nodes(tG,lambda x: stocks[x])\n",
    "        ########################################\n",
    "        return({'mean_FC':mu, 'graphs':tG, 'clustering_coeff':clustering, 'btn_centrality':centrality,  'modules':{'partition':partition,\n",
    "    'values':vals,'graph':graph}, 'zDegree':zDegree})\n",
    "    else:\n",
    "        print('this is empty')\n",
    "    "
   ]
  },
  {
   "cell_type": "markdown",
   "metadata": {
    "hideCode": false,
    "hidePrompt": false
   },
   "source": [
    "## Base dictionary structure"
   ]
  },
  {
   "cell_type": "code",
   "execution_count": 15,
   "metadata": {
    "hideCode": false,
    "hidePrompt": false
   },
   "outputs": [],
   "source": [
    "base_dict={'late':\n",
    "           {'BMI':\n",
    "            {'IC1':{},'IC3':{},'IC4':{},'IC5':{},'IC6':{},'IC7':{},'IC8':{},'IC9':{},'IC10':{},'IC11':{},'IC12':{},'IC13':{},'IC14':{},'IC15':{}},\n",
    "            'AoM':\n",
    "            {'IC12':{},'IC15':{}},\n",
    "            'int':\n",
    "            {'IC2':{},'IC3':{},'IC6':{},'IC12':{},'IC13':{}}\n",
    "           },'early':\n",
    "           {'BMI':\n",
    "            {'IC1':{},'IC3':{},'IC4':{},'IC5':{},'IC6':{},'IC7':{},'IC8':{},'IC9':{},'IC10':{},'IC11':{},'IC12':{},'IC13':{},'IC14':{},'IC15':{}},\n",
    "            'AoM':\n",
    "            {'IC12':{},'IC15':{}},\n",
    "            'int':\n",
    "            {'IC2':{},'IC3':{},'IC6':{},'IC12':{},'IC13':{}}\n",
    "           }\n",
    "          }"
   ]
  },
  {
   "cell_type": "markdown",
   "metadata": {
    "hideCode": false,
    "hidePrompt": false
   },
   "source": [
    "## Load in appropriate files\n",
    "1. Header = These are the ICs from the 15 dimenstion\n",
    "2. labels = These are labels from the glasser and gordon merged brains (allowing for cortex and subcortex)\n",
    "3. covars = These are the values of BMI, age at onset of menses, race, age, and head motion. The same file was used in FSLNETS"
   ]
  },
  {
   "cell_type": "code",
   "execution_count": 16,
   "metadata": {
    "hideCode": false,
    "hidePrompt": false
   },
   "outputs": [],
   "source": [
    "header=['IC1','IC2','IC3','IC4','IC5','IC6','IC7','IC8','IC9','IC10','IC11','IC12','IC13','IC14','IC15']"
   ]
  },
  {
   "cell_type": "code",
   "execution_count": 17,
   "metadata": {
    "hideCode": false,
    "hidePrompt": false
   },
   "outputs": [],
   "source": [
    "labels = pd.read_csv('/Users/gracer/Google Drive/HCP_graph/1200/brains/lables_glasser.csv', sep=',')"
   ]
  },
  {
   "cell_type": "code",
   "execution_count": 18,
   "metadata": {},
   "outputs": [
    {
     "data": {
      "text/plain": [
       "area    L_PIT_ROI\n",
       "Name: 220, dtype: object"
      ]
     },
     "execution_count": 18,
     "metadata": {},
     "output_type": "execute_result"
    }
   ],
   "source": [
    "labels.iloc[220]"
   ]
  },
  {
   "cell_type": "code",
   "execution_count": 19,
   "metadata": {},
   "outputs": [],
   "source": [
    "c=['BMI','AoM','int','race','age','motion']\n",
    "for x in c:\n",
    "    labels.loc[x] = [x]"
   ]
  },
  {
   "cell_type": "code",
   "execution_count": 20,
   "metadata": {},
   "outputs": [],
   "source": [
    "label_dict=labels.to_dict('index')"
   ]
  },
  {
   "cell_type": "code",
   "execution_count": 19,
   "metadata": {
    "hideCode": false,
    "hidePrompt": false
   },
   "outputs": [],
   "source": [
    "covars=pd.read_csv('/Users/gracer/Google Drive/HCP_graph/1200/datasets/subs510.csv', sep=',', header=None)"
   ]
  },
  {
   "cell_type": "code",
   "execution_count": 20,
   "metadata": {
    "hideCode": false,
    "hidePrompt": false
   },
   "outputs": [],
   "source": [
    "covars.columns=['idx','subject','group','BMI','AoM','int','race','age','motion']"
   ]
  },
  {
   "cell_type": "code",
   "execution_count": 21,
   "metadata": {
    "hideCode": false,
    "hidePrompt": false,
    "scrolled": true
   },
   "outputs": [],
   "source": [
    "covars.drop_duplicates(subset='subject', keep=\"last\", inplace=True)"
   ]
  },
  {
   "cell_type": "code",
   "execution_count": 22,
   "metadata": {
    "hideCode": false,
    "hidePrompt": false
   },
   "outputs": [
    {
     "data": {
      "text/plain": [
       "(510, 9)"
      ]
     },
     "execution_count": 22,
     "metadata": {},
     "output_type": "execute_result"
    }
   ],
   "source": [
    "covars.shape"
   ]
  },
  {
   "cell_type": "code",
   "execution_count": 221,
   "metadata": {
    "hideCode": false,
    "hidePrompt": false
   },
   "outputs": [],
   "source": [
    "covars['subject']=covars['subject'].astype('int64')"
   ]
  },
  {
   "cell_type": "code",
   "execution_count": 222,
   "metadata": {
    "hideCode": false,
    "hidePrompt": false
   },
   "outputs": [],
   "source": [
    "high_low=pd.read_csv('/Users/gracer/Google Drive/HCP_graph/1200/datasets/post_hoc.csv', sep=',')"
   ]
  },
  {
   "cell_type": "code",
   "execution_count": 223,
   "metadata": {
    "hideCode": false,
    "hidePrompt": false
   },
   "outputs": [],
   "source": [
    "hl=high_low[['Subject','AoM']]\n",
    "hl=hl.dropna()\n",
    "hl.columns = [\"subject\", \"high_low\"]"
   ]
  },
  {
   "cell_type": "markdown",
   "metadata": {
    "hideCode": false,
    "hidePrompt": false
   },
   "source": [
    "### Load in all timeseries data from each participant into data_dict. \n",
    "These are the netmat2 files. They are zscores per TR"
   ]
  },
  {
   "cell_type": "code",
   "execution_count": 224,
   "metadata": {
    "hideCode": false,
    "hidePrompt": false,
    "scrolled": true
   },
   "outputs": [
    {
     "name": "stdout",
     "output_type": "stream",
     "text": [
      "late\n",
      "early\n"
     ]
    }
   ],
   "source": [
    "raw_dict={'late':hl.loc[hl['high_low']=='late'],'early': hl.loc[hl['high_low'] == 'early']}\n",
    "data_dict={'late':{},'early':{}}\n",
    "for key, df in raw_dict.items():\n",
    "    print(key)\n",
    "    for sub in df['subject']:\n",
    "        path=os.path.join(\n",
    "            '/Users/gracer/Downloads/HCP_S1200_PTNmaps_d15_25_50_100/3T_HCP1200_MSMAll_d15_ts2_Z/puberty/%i.txt'%sub)\n",
    "        data_dict[key][sub]=pd.read_csv(path,sep='\\t',names=header)"
   ]
  },
  {
   "cell_type": "code",
   "execution_count": 225,
   "metadata": {
    "hideCode": false,
    "hidePrompt": false
   },
   "outputs": [
    {
     "data": {
      "text/plain": [
       "212"
      ]
     },
     "execution_count": 225,
     "metadata": {},
     "output_type": "execute_result"
    }
   ],
   "source": [
    "len(list(data_dict['late'].keys()))+len(list(data_dict['early'].keys()))"
   ]
  },
  {
   "cell_type": "markdown",
   "metadata": {
    "hideCode": false,
    "hidePrompt": false
   },
   "source": [
    "Check that you have 212 subjects/files"
   ]
  },
  {
   "cell_type": "code",
   "execution_count": 226,
   "metadata": {},
   "outputs": [
    {
     "data": {
      "text/plain": [
       "125"
      ]
     },
     "execution_count": 226,
     "metadata": {},
     "output_type": "execute_result"
    }
   ],
   "source": [
    "len(list(data_dict['late'].keys()))"
   ]
  },
  {
   "cell_type": "code",
   "execution_count": 227,
   "metadata": {},
   "outputs": [
    {
     "data": {
      "text/plain": [
       "87"
      ]
     },
     "execution_count": 227,
     "metadata": {},
     "output_type": "execute_result"
    }
   ],
   "source": [
    "len(list(data_dict['early'].keys()))"
   ]
  },
  {
   "cell_type": "markdown",
   "metadata": {
    "hideCode": false,
    "hidePrompt": false
   },
   "source": [
    "## Subset the ICs of interest\n",
    "Don't need all the ICs. Just the ones already associated with BMI and puberty. This allows us to look at the relationships within IC."
   ]
  },
  {
   "cell_type": "code",
   "execution_count": null,
   "metadata": {
    "hideCode": false,
    "hidePrompt": false,
    "scrolled": true
   },
   "outputs": [],
   "source": [
    "interest={'late':\n",
    "           {'BMI':\n",
    "            {'IC1':{},'IC3':{},'IC4':{},'IC5':{},'IC6':{},'IC7':{},'IC8':{},'IC9':{},'IC10':{},'IC11':{},'IC12':{},'IC13':{},'IC14':{},'IC15':{}},\n",
    "            'AoM':\n",
    "            {'IC12':{},'IC15':{}},\n",
    "            'int':\n",
    "            {'IC2':{},'IC3':{},'IC6':{},'IC12':{},'IC13':{}}\n",
    "           },'early':\n",
    "           {'BMI':\n",
    "            {'IC1':{},'IC3':{},'IC4':{},'IC5':{},'IC6':{},'IC7':{},'IC8':{},'IC9':{},'IC10':{},'IC11':{},'IC12':{},'IC13':{},'IC14':{},'IC15':{}},\n",
    "            'AoM':\n",
    "            {'IC12':{},'IC15':{}},\n",
    "            'int':\n",
    "            {'IC2':{},'IC3':{},'IC6':{},'IC12':{},'IC13':{}}\n",
    "           }\n",
    "          }\n",
    "for t, dt in interest.items():\n",
    "    print(t)\n",
    "    for x,y in dt.items():\n",
    "        print(x)\n",
    "        for k,v in y.items():\n",
    "            print(k)\n",
    "            for key, value in data_dict[t].items():\n",
    "                v[key]=value[k]    "
   ]
  },
  {
   "cell_type": "markdown",
   "metadata": {
    "hideCode": false,
    "hidePrompt": false
   },
   "source": [
    "## Create datatables with the rows as subjects and columns as parcels per IC"
   ]
  },
  {
   "cell_type": "markdown",
   "metadata": {
    "hideCode": false,
    "hidePrompt": false
   },
   "source": [
    "From here on we will seperate all ICs from each other. This allows us to look at the parcellation per IC. The dfs is a dictionary of all ICs of interest. The columns are the parcels and rows are the subjects."
   ]
  },
  {
   "cell_type": "code",
   "execution_count": null,
   "metadata": {
    "hideCode": false,
    "hidePrompt": false,
    "scrolled": true
   },
   "outputs": [],
   "source": [
    "dfs = {'late':\n",
    "           {'BMI':\n",
    "            {'IC1':{},'IC3':{},'IC4':{},'IC5':{},'IC6':{},'IC7':{},'IC8':{},'IC9':{},'IC10':{},'IC11':{},'IC12':{},'IC13':{},'IC14':{},'IC15':{}},\n",
    "            'AoM':\n",
    "            {'IC12':{},'IC15':{}},\n",
    "            'int':\n",
    "            {'IC2':{},'IC3':{},'IC6':{},'IC12':{},'IC13':{}}\n",
    "           },'early':\n",
    "           {'BMI':\n",
    "            {'IC1':{},'IC3':{},'IC4':{},'IC5':{},'IC6':{},'IC7':{},'IC8':{},'IC9':{},'IC10':{},'IC11':{},'IC12':{},'IC13':{},'IC14':{},'IC15':{}},\n",
    "            'AoM':\n",
    "            {'IC12':{},'IC15':{}},\n",
    "            'int':\n",
    "            {'IC2':{},'IC3':{},'IC6':{},'IC12':{},'IC13':{}}\n",
    "           }\n",
    "          }\n",
    "for t, df in interest.items():\n",
    "    for group, value in df.items():\n",
    "        for IC,v in value.items():\n",
    "            x=pd.DataFrame.from_dict(v, orient='index')\n",
    "            print(x.shape)\n",
    "            x['subject']=x.index\n",
    "            x['subject'] = x['subject'].astype('int64')\n",
    "            hl['subject']= hl['subject'].astype('int64')\n",
    "            y=pd.merge(x, covars, left_on='subject', right_on='subject')\n",
    "            print(y.shape)\n",
    "            z=pd.merge(y, hl, left_on='subject', right_on='subject')\n",
    "            print(z.shape)\n",
    "            del z['group']\n",
    "            del z['idx']\n",
    "            z.set_index('subject', inplace=True)\n",
    "            dfs[t][group][IC]=z"
   ]
  },
  {
   "cell_type": "code",
   "execution_count": null,
   "metadata": {
    "hideCode": false,
    "hidePrompt": false
   },
   "outputs": [],
   "source": [
    "dfs['late']['BMI']['IC1']"
   ]
  },
  {
   "cell_type": "code",
   "execution_count": null,
   "metadata": {
    "hideCode": false,
    "hidePrompt": false,
    "scrolled": true
   },
   "outputs": [],
   "source": [
    "# for t, item in dfs.items():\n",
    "#     for group, value in item.items():\n",
    "#         for IC, v in value.items():\n",
    "#             del v['idx']\n",
    "#             dfs[t][group][IC]=v"
   ]
  },
  {
   "cell_type": "markdown",
   "metadata": {
    "hideCode": false,
    "hidePrompt": false
   },
   "source": [
    "## Thresholding the zscores \n",
    "Only keeping zscores > 3.5 and greater than 75 of the participants must have a value for the score to keep the column. This is to threshold out noise and missing data"
   ]
  },
  {
   "cell_type": "code",
   "execution_count": null,
   "metadata": {
    "hideCode": false,
    "hidePrompt": false,
    "scrolled": true
   },
   "outputs": [],
   "source": [
    "zscores_thr= {'late':\n",
    "           {'BMI':\n",
    "            {'IC1':{},'IC3':{},'IC4':{},'IC5':{},'IC6':{},'IC7':{},'IC8':{},'IC9':{},'IC10':{},'IC11':{},'IC12':{},'IC13':{},'IC14':{},'IC15':{}},\n",
    "            'AoM':\n",
    "            {'IC12':{},'IC15':{}},\n",
    "            'int':\n",
    "            {'IC2':{},'IC3':{},'IC6':{},'IC12':{},'IC13':{}}\n",
    "           },'early':\n",
    "           {'BMI':\n",
    "            {'IC1':{},'IC3':{},'IC4':{},'IC5':{},'IC6':{},'IC7':{},'IC8':{},'IC9':{},'IC10':{},'IC11':{},'IC12':{},'IC13':{},'IC14':{},'IC15':{}},\n",
    "            'AoM':\n",
    "            {'IC12':{},'IC15':{}},\n",
    "            'int':\n",
    "            {'IC2':{},'IC3':{},'IC6':{},'IC12':{},'IC13':{}}\n",
    "           }\n",
    "          }\n",
    "\n",
    "for t, df in dfs.items():\n",
    "    for group, value in df.items():\n",
    "        print(group)\n",
    "        for IC,v in value.items():\n",
    "            print(IC)\n",
    "            x = v[(v.iloc[:,1:379]>3.5) | (v.iloc[:,1:379]<-3.5)]\n",
    "            y=x.dropna(axis=1, how='all')\n",
    "            test=y.isna().mean()\n",
    "            q = y.loc[:, y.isna().mean() < .25]\n",
    "            z=pd.concat([v.iloc[:,379:], q], axis=1)\n",
    "            zscores_thr[t][group][IC]=z"
   ]
  },
  {
   "cell_type": "code",
   "execution_count": null,
   "metadata": {
    "hideCode": false,
    "hidePrompt": false,
    "scrolled": true
   },
   "outputs": [],
   "source": [
    "zscores_thr['early']['BMI']['IC1'].shape"
   ]
  },
  {
   "cell_type": "code",
   "execution_count": null,
   "metadata": {
    "scrolled": true
   },
   "outputs": [],
   "source": [
    "zscores_thr['early']['BMI']['IC1']"
   ]
  },
  {
   "cell_type": "markdown",
   "metadata": {
    "hideCode": false,
    "hidePrompt": false
   },
   "source": [
    "# Generating the graphs with positive values"
   ]
  },
  {
   "cell_type": "markdown",
   "metadata": {
    "hideCode": false,
    "hidePrompt": false
   },
   "source": [
    "## Important\n",
    "### Correlations\n",
    "This is probably the most important part. Here we are taking our (subxparcel) dataframes we thresholded above and we are generating a correlation matrix using a Pearson's Product correlation (R). Within each matrix, there will be positive and negative correlation values. This can be a problem with the graph metrics we want to use.\n",
    "### Graphs\n",
    "To avoid the issue of negative and positive values, we are going to threshold each correlation matrix twice. \n",
    "1. Positive correlations\n",
    "2. Negative correltions\n",
    "\n",
    "We will then use the absolute value of the negative correlations to mimic a positive correlation. We will keep these seperate for the rest of the analysis."
   ]
  },
  {
   "cell_type": "code",
   "execution_count": null,
   "metadata": {
    "hideCode": false,
    "hidePrompt": false,
    "scrolled": true
   },
   "outputs": [],
   "source": [
    "graphs = {'late':\n",
    "           {'BMI':\n",
    "            {'IC1':{},'IC3':{},'IC4':{},'IC5':{},'IC6':{},'IC7':{},'IC8':{},'IC9':{},'IC10':{},'IC11':{},'IC12':{},'IC13':{},'IC14':{},'IC15':{}},\n",
    "            'AoM':\n",
    "            {'IC12':{},'IC15':{}},\n",
    "            'int':\n",
    "            {'IC2':{},'IC3':{},'IC6':{},'IC12':{},'IC13':{}}\n",
    "           },'early':\n",
    "           {'BMI':\n",
    "            {'IC1':{},'IC3':{},'IC4':{},'IC5':{},'IC6':{},'IC7':{},'IC8':{},'IC9':{},'IC10':{},'IC11':{},'IC12':{},'IC13':{},'IC14':{},'IC15':{}},\n",
    "            'AoM':\n",
    "            {'IC12':{},'IC15':{}},\n",
    "            'int':\n",
    "            {'IC2':{},'IC3':{},'IC6':{},'IC12':{},'IC13':{}}}}\n",
    "\n",
    "for t, item in zscores_thr.items():\n",
    "    for group, value in item.items():\n",
    "        for IC, v in value.items():\n",
    "            print(group)\n",
    "            graphs[t][group][IC]=mu_make_graphs(IC, v.corr(), 'positive')\n",
    "\n"
   ]
  },
  {
   "cell_type": "code",
   "execution_count": null,
   "metadata": {
    "scrolled": true
   },
   "outputs": [],
   "source": [
    "graphs['late']['AoM']['IC15']['graphs'].nodes(data=True)"
   ]
  },
  {
   "cell_type": "code",
   "execution_count": null,
   "metadata": {
    "scrolled": true
   },
   "outputs": [],
   "source": [
    "len(graphs['late']['AoM']['IC15']['zDegree'])"
   ]
  },
  {
   "cell_type": "markdown",
   "metadata": {
    "hideCode": false,
    "hidePrompt": false
   },
   "source": [
    "## Generating graphs with negative values\n",
    "Unable to get communities with negative values need to keep seperate"
   ]
  },
  {
   "cell_type": "code",
   "execution_count": null,
   "metadata": {
    "hideCode": false,
    "hidePrompt": false,
    "scrolled": true
   },
   "outputs": [],
   "source": [
    "nega_graphs = {'late':\n",
    "           {'BMI':\n",
    "            {'IC1':{},'IC3':{},'IC4':{},'IC5':{},'IC6':{},'IC7':{},'IC8':{},'IC9':{},'IC10':{},'IC11':{},'IC12':{},'IC13':{},'IC14':{},'IC15':{}},\n",
    "            'AoM':\n",
    "            {'IC12':{},'IC15':{}},\n",
    "            'int':\n",
    "            {'IC2':{},'IC3':{},'IC6':{},'IC12':{},'IC13':{}}\n",
    "           },'early':\n",
    "           {'BMI':\n",
    "            {'IC1':{},'IC3':{},'IC4':{},'IC5':{},'IC6':{},'IC7':{},'IC8':{},'IC9':{},'IC10':{},'IC11':{},'IC12':{},'IC13':{},'IC14':{},'IC15':{}},\n",
    "            'AoM':\n",
    "            {'IC12':{},'IC15':{}},\n",
    "            'int':\n",
    "            {'IC2':{},'IC3':{},'IC6':{},'IC12':{},'IC13':{}}}}\n",
    "\n",
    "for t, item in zscores_thr.items():\n",
    "    for group, value in item.items():\n",
    "        print(group)\n",
    "        for IC, v in value.items():\n",
    "            print(IC)\n",
    "            nega_graphs[t][group][IC]=mu_make_graphs(IC, v.corr(), 'negative')\n"
   ]
  },
  {
   "cell_type": "markdown",
   "metadata": {
    "hideCode": false,
    "hidePrompt": false
   },
   "source": [
    "## Visualizing the total graphs for all ICs in the interaction group"
   ]
  },
  {
   "cell_type": "markdown",
   "metadata": {
    "hideCode": false,
    "hidePrompt": false
   },
   "source": [
    "These graphs will show all the nodes in each IC (positive and negative). It will also show what community each node belongs to. Community struture will be a measure of density. Denser connections will form modules. "
   ]
  },
  {
   "cell_type": "code",
   "execution_count": null,
   "metadata": {
    "hideCode": false,
    "hidePrompt": false,
    "scrolled": false
   },
   "outputs": [],
   "source": [
    "for key, value in graphs['late']['int'].items():\n",
    "    grace_graph(value['graphs'], 'Int_%s'%key)"
   ]
  },
  {
   "cell_type": "code",
   "execution_count": null,
   "metadata": {
    "hideCode": false,
    "hidePrompt": false,
    "scrolled": false
   },
   "outputs": [],
   "source": [
    "for key, value in nega_graphs['late']['int'].items():\n",
    "    grace_graph(value['graphs'], 'Int_%s'%key)"
   ]
  },
  {
   "cell_type": "markdown",
   "metadata": {
    "hideCode": false,
    "hidePrompt": false
   },
   "source": [
    "## writing all the adjacency matrices and topologocial values to csv to save"
   ]
  },
  {
   "cell_type": "code",
   "execution_count": null,
   "metadata": {
    "hideCode": false,
    "hidePrompt": false,
    "scrolled": true
   },
   "outputs": [],
   "source": [
    "# for key, value in graphs.items():\n",
    "#     print(key)\n",
    "#     for k, v in value.items():\n",
    "#         print(k)\n",
    "#         cc=pd.DataFrame.from_dict(v['clustering_coeff'], orient='index')\n",
    "#         btw=pd.DataFrame.from_dict(v['btn_centrality'], orient='index')\n",
    "#         mod=pd.DataFrame.from_dict(v['modules']['partition'], orient='index')\n",
    "#         test3 = pd.concat([cc, btw, mod], axis=1)\n",
    "#         test3.columns = ['cc','btw','mod']\n",
    "#         print(test3.shape)\n",
    "#         test3.set_index([list(zscores_thr[key][k].columns.values)], inplace=True)\n",
    "#         adj=nx.to_pandas_adjacency(v['graphs'])\n",
    "#         print(adj.shape)\n",
    "#         df=adj.merge(test3, left_index=True, right_index=True)\n",
    "#         pd.DataFrame.to_csv(df, '/Users/gracer/Google Drive/HCP_graph/1200/datasets/%s_%s_thresh.csv'%(key,k))"
   ]
  },
  {
   "cell_type": "code",
   "execution_count": null,
   "metadata": {
    "hideCode": false,
    "hidePrompt": false,
    "scrolled": true
   },
   "outputs": [],
   "source": [
    "# for key, value in nega_graphs.items():\n",
    "#     print(key)\n",
    "#     for k, v in value.items():\n",
    "#         print(k)\n",
    "#         cc=pd.DataFrame.from_dict(v['clustering_coeff'], orient='index')\n",
    "#         btw=pd.DataFrame.from_dict(v['btn_centrality'], orient='index')\n",
    "#         test3 = pd.concat([cc, btw], axis=1)\n",
    "#         test3.columns = ['cc','btw']\n",
    "#         test3.set_index([list(zscores_thr[key][k].columns.values)], inplace=True)\n",
    "#         pd.DataFrame.to_csv(test3, '/Users/gracer/Google Drive/HCP_graph/1200/datasets/%s_%s_thresh_neg.csv'%(key,k))"
   ]
  },
  {
   "cell_type": "markdown",
   "metadata": {
    "hideCode": false,
    "hidePrompt": false
   },
   "source": [
    "## Visualizing the within module graph \n",
    "These are graphs that look at the connectivity within each module. This shows us how the most related areas (densely connected) interact with each other. "
   ]
  },
  {
   "cell_type": "code",
   "execution_count": null,
   "metadata": {
    "scrolled": true
   },
   "outputs": [],
   "source": [
    "list(set(graphs['late']['BMI']['IC1']['modules']['values']))"
   ]
  },
  {
   "cell_type": "markdown",
   "metadata": {},
   "source": [
    "# Actual way to make PC"
   ]
  },
  {
   "cell_type": "code",
   "execution_count": null,
   "metadata": {
    "scrolled": true
   },
   "outputs": [],
   "source": [
    "for t, item in graphs.items():\n",
    "    for group, v in item.items():\n",
    "        print(group)\n",
    "        for IC, value in v.items():\n",
    "            G=value['graphs']\n",
    "            G.nodes(data=True)\n",
    "            dictAlpha=dict(G.degree)\n",
    "            dictGamma={}\n",
    "            for M in list(set(value['modules']['values'])):\n",
    "                interest = [x for x,y in G.nodes(data=True) if y['modules']==M]\n",
    "                X=nx.subgraph(G, interest)\n",
    "                dictOmega=dict(X.degree)\n",
    "                for key, value in dictOmega.items():\n",
    "                    test=1-np.square(value/dictAlpha[key])\n",
    "                    dictGamma[key] = test\n",
    "                    print(\"this is the module %s\"%M)\n",
    "            nx.set_node_attributes(G, dictGamma, 'PC')"
   ]
  },
  {
   "cell_type": "code",
   "execution_count": null,
   "metadata": {
    "hideCode": false,
    "hidePrompt": false,
    "scrolled": true
   },
   "outputs": [],
   "source": [
    "subgraphs = {'late':\n",
    "           {'BMI':\n",
    "            {'IC1':{},'IC3':{},'IC4':{},'IC5':{},'IC6':{},'IC7':{},'IC8':{},'IC9':{},'IC10':{},'IC11':{},'IC12':{},'IC13':{},'IC14':{},'IC15':{}},\n",
    "            'AoM':\n",
    "            {'IC12':{},'IC15':{}},\n",
    "            'int':\n",
    "            {'IC2':{},'IC3':{},'IC6':{},'IC12':{},'IC13':{}}\n",
    "           },'early':\n",
    "           {'BMI':\n",
    "            {'IC1':{},'IC3':{},'IC4':{},'IC5':{},'IC6':{},'IC7':{},'IC8':{},'IC9':{},'IC10':{},'IC11':{},'IC12':{},'IC13':{},'IC14':{},'IC15':{}},\n",
    "            'AoM':\n",
    "            {'IC12':{},'IC15':{}},\n",
    "            'int':\n",
    "            {'IC2':{},'IC3':{},'IC6':{},'IC12':{},'IC13':{}}}}\n",
    "\n",
    "for t, item in graphs.items():\n",
    "    for group, v in item.items():\n",
    "        for IC, value in v.items():\n",
    "            print(IC)\n",
    "            G=value['graphs']\n",
    "            degree_Alpha=G.degree\n",
    "            mod=G.nodes(data=True)[group]['modules']\n",
    "            print(mod)\n",
    "            interest=[k for k,v in nx.get_node_attributes(G, 'modules').items() if v == mod]\n",
    "            X=nx.subgraph(G, interest)\n",
    "            subgraphs[t][group][IC]=X\n",
    "#             degree_Omega=X.degree\n",
    "#             print(degree_Omega)\n",
    "#             inmod_graph(X, 'interaction')"
   ]
  },
  {
   "cell_type": "markdown",
   "metadata": {
    "hideCode": false,
    "hidePrompt": false
   },
   "source": [
    "# Summary\n",
    "Overall, within each module the interaction term is segregated. These are positive graphs, therefore they are either increasing or decreasing together. This indicates to me that the interaction is fairly unique and not densely correlated. It maybe that is it correlated more strongly to other modules. "
   ]
  },
  {
   "cell_type": "code",
   "execution_count": null,
   "metadata": {
    "hideCode": false,
    "hidePrompt": false,
    "scrolled": true
   },
   "outputs": [],
   "source": [
    "nega_subgraphs = {'late':\n",
    "           {'BMI':\n",
    "            {'IC1':{},'IC3':{},'IC4':{},'IC5':{},'IC6':{},'IC7':{},'IC8':{},'IC9':{},'IC10':{},'IC11':{},'IC12':{},'IC13':{},'IC14':{},'IC15':{}},\n",
    "            'AoM':\n",
    "            {'IC12':{},'IC15':{}},\n",
    "            'int':\n",
    "            {'IC2':{},'IC3':{},'IC6':{},'IC12':{},'IC13':{}}\n",
    "           },'early':\n",
    "           {'BMI':\n",
    "            {'IC1':{},'IC3':{},'IC4':{},'IC5':{},'IC6':{},'IC7':{},'IC8':{},'IC9':{},'IC10':{},'IC11':{},'IC12':{},'IC13':{},'IC14':{},'IC15':{}},\n",
    "            'AoM':\n",
    "            {'IC12':{},'IC15':{}},\n",
    "            'int':\n",
    "            {'IC2':{},'IC3':{},'IC6':{},'IC12':{},'IC13':{}}}}\n",
    "\n",
    "for t, item in nega_graphs.items():\n",
    "    for group, v in item.items():\n",
    "        for IC, value in v.items():\n",
    "            print(IC)\n",
    "            G=value['graphs']\n",
    "            mod=G.nodes(data=True)[group]['modules']\n",
    "            print(mod)\n",
    "            interest=[k for k,v in nx.get_node_attributes(G, 'modules').items() if v == mod]\n",
    "            print(interest)\n",
    "            X=nx.subgraph(G, interest)\n",
    "            nega_subgraphs[t][group][IC]=X\n",
    "#             inmod_graph(X, 'interaction')"
   ]
  },
  {
   "cell_type": "markdown",
   "metadata": {
    "hideCode": false,
    "hidePrompt": false
   },
   "source": [
    "# Summary\n",
    "we can see that the inverse correlations are overall much weaker than the positive. Further, the interaction term is positively correlated with BMI and head motion, but negatively correlated with age at onset of menses. This is expected since the relationship between BMI and age at onset of menses is inverse. (see R notebook)"
   ]
  },
  {
   "cell_type": "markdown",
   "metadata": {
    "hideCode": false,
    "hidePrompt": false
   },
   "source": [
    "## Creating module based graphs"
   ]
  },
  {
   "cell_type": "code",
   "execution_count": 49,
   "metadata": {
    "hideCode": false,
    "hidePrompt": false,
    "scrolled": true
   },
   "outputs": [
    {
     "name": "stdout",
     "output_type": "stream",
     "text": [
      "IC1\n",
      "IC3\n",
      "IC4\n",
      "IC5\n",
      "IC6\n",
      "IC7\n",
      "IC8\n",
      "IC9\n",
      "IC10\n",
      "IC11\n",
      "IC12\n",
      "IC13\n",
      "IC14\n",
      "IC15\n",
      "IC12\n",
      "IC15\n",
      "IC2\n",
      "IC3\n",
      "IC6\n",
      "IC12\n",
      "IC13\n",
      "IC1\n",
      "IC3\n",
      "IC4\n",
      "IC5\n",
      "IC6\n",
      "IC7\n",
      "IC8\n",
      "IC9\n",
      "IC10\n",
      "IC11\n",
      "IC12\n",
      "IC13\n",
      "IC14\n",
      "IC15\n",
      "IC12\n",
      "IC15\n",
      "IC2\n",
      "IC3\n",
      "IC6\n",
      "IC12\n",
      "IC13\n"
     ]
    }
   ],
   "source": [
    "community_graphs= {'late':\n",
    "           {'BMI':\n",
    "            {'IC1':{},'IC3':{},'IC4':{},'IC5':{},'IC6':{},'IC7':{},'IC8':{},'IC9':{},'IC10':{},'IC11':{},'IC12':{},'IC13':{},'IC14':{},'IC15':{}},\n",
    "            'AoM':\n",
    "            {'IC12':{},'IC15':{}},\n",
    "            'int':\n",
    "            {'IC2':{},'IC3':{},'IC6':{},'IC12':{},'IC13':{}}\n",
    "           },'early':\n",
    "           {'BMI':\n",
    "            {'IC1':{},'IC3':{},'IC4':{},'IC5':{},'IC6':{},'IC7':{},'IC8':{},'IC9':{},'IC10':{},'IC11':{},'IC12':{},'IC13':{},'IC14':{},'IC15':{}},\n",
    "            'AoM':\n",
    "            {'IC12':{},'IC15':{}},\n",
    "            'int':\n",
    "            {'IC2':{},'IC3':{},'IC6':{},'IC12':{},'IC13':{}}}}\n",
    "for t, item in graphs.items():\n",
    "    for group, v in item.items():\n",
    "        for IC, data in v.items():\n",
    "            comm_graph = community.induced_graph(data['modules']['partition'], \n",
    "                                            data['modules']['graph'])\n",
    "            community_graphs[t][group][IC]=comm_graph\n",
    "            print(IC)\n",
    "    #         module_fig(comm_graph, group, IC)"
   ]
  },
  {
   "cell_type": "code",
   "execution_count": 50,
   "metadata": {},
   "outputs": [
    {
     "data": {
      "text/plain": [
       "EdgeDataView([(0, 0, {'weight': 8.138635471565209}), (0, 4, {'weight': 0.3697704194972015}), (0, 1, {'weight': 0.09393321198540044}), (0, 3, {'weight': 0.053263043034212}), (0, 2, {'weight': 0.3144179868776163}), (1, 1, {'weight': 1.0}), (1, 2, {'weight': 1.7920135115262992}), (1, 3, {'weight': 0.298535944233951}), (1, 4, {'weight': 1.8345887314286442}), (2, 2, {'weight': 112.72450220123335}), (2, 3, {'weight': 39.899184327068184}), (2, 4, {'weight': 127.98655689250087}), (3, 3, {'weight': 9.642401319869814}), (3, 4, {'weight': 30.850544302853844}), (4, 4, {'weight': 86.06562089026951})])"
      ]
     },
     "execution_count": 50,
     "metadata": {},
     "output_type": "execute_result"
    }
   ],
   "source": [
    "community_graphs['late']['int']['IC13'].edges(data=True)"
   ]
  },
  {
   "cell_type": "code",
   "execution_count": 54,
   "metadata": {},
   "outputs": [],
   "source": [
    "G=graphs['early']['int']['IC13']['graphs']"
   ]
  },
  {
   "cell_type": "code",
   "execution_count": 60,
   "metadata": {
    "scrolled": true
   },
   "outputs": [],
   "source": [
    "partition=graphs['early']['int']['IC13']['modules']['partition']"
   ]
  },
  {
   "cell_type": "code",
   "execution_count": 66,
   "metadata": {},
   "outputs": [
    {
     "data": {
      "text/plain": [
       "dict_values([0, 1, 1, 0, 0, 0, 2, 2, 3, 4, 3, 2, 2, 2, 2, 2, 5, 4, 4, 3, 4, 4, 3, 2, 4, 4, 2, 2, 3, 3, 4, 2, 2, 2, 2, 5, 4, 4, 3, 4, 2, 4, 4])"
      ]
     },
     "execution_count": 66,
     "metadata": {},
     "output_type": "execute_result"
    }
   ],
   "source": [
    "list(partition.values())"
   ]
  },
  {
   "cell_type": "code",
   "execution_count": 71,
   "metadata": {},
   "outputs": [],
   "source": [
    "d = dict(zip(list(G.nodes()), list(partition.values())))"
   ]
  },
  {
   "cell_type": "code",
   "execution_count": 73,
   "metadata": {
    "scrolled": true
   },
   "outputs": [],
   "source": [
    "partition=d"
   ]
  },
  {
   "cell_type": "code",
   "execution_count": 101,
   "metadata": {},
   "outputs": [],
   "source": [
    "community_graphs2= {'late':\n",
    "           {'BMI':\n",
    "            {'IC1':{},'IC3':{},'IC4':{},'IC5':{},'IC6':{},'IC7':{},'IC8':{},'IC9':{},'IC10':{},'IC11':{},'IC12':{},'IC13':{},'IC14':{},'IC15':{}},\n",
    "            'AoM':\n",
    "            {'IC12':{},'IC15':{}},\n",
    "            'int':\n",
    "            {'IC2':{},'IC3':{},'IC6':{},'IC12':{},'IC13':{}}\n",
    "           },'early':\n",
    "           {'BMI':\n",
    "            {'IC1':{},'IC3':{},'IC4':{},'IC5':{},'IC6':{},'IC7':{},'IC8':{},'IC9':{},'IC10':{},'IC11':{},'IC12':{},'IC13':{},'IC14':{},'IC15':{}},\n",
    "            'AoM':\n",
    "            {'IC12':{},'IC15':{}},\n",
    "            'int':\n",
    "            {'IC2':{},'IC3':{},'IC6':{},'IC12':{},'IC13':{}}}}\n",
    "for t, item in graphs.items():\n",
    "    for group, v in item.items():\n",
    "        for IC, data in v.items():\n",
    "            ret = nx.Graph()\n",
    "            ret.add_nodes_from(partition.values())\n",
    "            summary={}\n",
    "            for node1, node2, datas in G.edges(data = True) :\n",
    "                weight = datas.get(\"weight\", 1)\n",
    "                com1 = partition[node1]\n",
    "                com2 = partition[node2]\n",
    "                w_prec = ret.get_edge_data(com1, com2, {\"weight\":0}).get(\"weight\", 1)\n",
    "                ret.add_edge(com1, com2, weight = w_prec + weight)\n",
    "                summary[(node1, node2)]= {'weight':w_prec + weight, 'modules':(com1, com2)}\n",
    "            community_graphs2[t][group][IC]=summary\n",
    "# return ret"
   ]
  },
  {
   "cell_type": "code",
   "execution_count": 103,
   "metadata": {},
   "outputs": [],
   "source": [
    "data=community_graphs2['late']['int']['IC12']"
   ]
  },
  {
   "cell_type": "code",
   "execution_count": 106,
   "metadata": {},
   "outputs": [],
   "source": [
    "for t, item in community_graphs2.items():\n",
    "    for IC, data in item['int'].items():\n",
    "        df=pd.DataFrame.from_dict(data, orient='index')\n",
    "        df['group']=t\n",
    "        pd.DataFrame.to_csv(df,'/Users/gracer/Google Drive/HCP_graph/1200/datasets/edges_%s_%s.csv'%(t,IC),sep=',')\n"
   ]
  },
  {
   "cell_type": "code",
   "execution_count": 104,
   "metadata": {},
   "outputs": [
    {
     "data": {
      "text/html": [
       "<div>\n",
       "<style scoped>\n",
       "    .dataframe tbody tr th:only-of-type {\n",
       "        vertical-align: middle;\n",
       "    }\n",
       "\n",
       "    .dataframe tbody tr th {\n",
       "        vertical-align: top;\n",
       "    }\n",
       "\n",
       "    .dataframe thead th {\n",
       "        text-align: right;\n",
       "    }\n",
       "</style>\n",
       "<table border=\"1\" class=\"dataframe\">\n",
       "  <thead>\n",
       "    <tr style=\"text-align: right;\">\n",
       "      <th></th>\n",
       "      <th></th>\n",
       "      <th>weight</th>\n",
       "      <th>modules</th>\n",
       "    </tr>\n",
       "  </thead>\n",
       "  <tbody>\n",
       "    <tr>\n",
       "      <th rowspan=\"5\" valign=\"top\">BMI</th>\n",
       "      <th>BMI</th>\n",
       "      <td>1.000000</td>\n",
       "      <td>(0, 0)</td>\n",
       "    </tr>\n",
       "    <tr>\n",
       "      <th>race</th>\n",
       "      <td>1.017475</td>\n",
       "      <td>(0, 0)</td>\n",
       "    </tr>\n",
       "    <tr>\n",
       "      <th>age</th>\n",
       "      <td>1.096192</td>\n",
       "      <td>(0, 0)</td>\n",
       "    </tr>\n",
       "    <tr>\n",
       "      <th>motion</th>\n",
       "      <td>1.778516</td>\n",
       "      <td>(0, 0)</td>\n",
       "    </tr>\n",
       "    <tr>\n",
       "      <th>303</th>\n",
       "      <td>0.024910</td>\n",
       "      <td>(0, 4)</td>\n",
       "    </tr>\n",
       "    <tr>\n",
       "      <th>...</th>\n",
       "      <th>...</th>\n",
       "      <td>...</td>\n",
       "      <td>...</td>\n",
       "    </tr>\n",
       "    <tr>\n",
       "      <th rowspan=\"2\" valign=\"top\">366</th>\n",
       "      <th>372</th>\n",
       "      <td>102.026362</td>\n",
       "      <td>(2, 4)</td>\n",
       "    </tr>\n",
       "    <tr>\n",
       "      <th>373</th>\n",
       "      <td>102.492007</td>\n",
       "      <td>(2, 4)</td>\n",
       "    </tr>\n",
       "    <tr>\n",
       "      <th rowspan=\"2\" valign=\"top\">372</th>\n",
       "      <th>372</th>\n",
       "      <td>61.442130</td>\n",
       "      <td>(4, 4)</td>\n",
       "    </tr>\n",
       "    <tr>\n",
       "      <th>373</th>\n",
       "      <td>62.108422</td>\n",
       "      <td>(4, 4)</td>\n",
       "    </tr>\n",
       "    <tr>\n",
       "      <th>373</th>\n",
       "      <th>373</th>\n",
       "      <td>63.108422</td>\n",
       "      <td>(4, 4)</td>\n",
       "    </tr>\n",
       "  </tbody>\n",
       "</table>\n",
       "<p>786 rows × 2 columns</p>\n",
       "</div>"
      ],
      "text/plain": [
       "                weight modules\n",
       "BMI BMI       1.000000  (0, 0)\n",
       "    race      1.017475  (0, 0)\n",
       "    age       1.096192  (0, 0)\n",
       "    motion    1.778516  (0, 0)\n",
       "    303       0.024910  (0, 4)\n",
       "...                ...     ...\n",
       "366 372     102.026362  (2, 4)\n",
       "    373     102.492007  (2, 4)\n",
       "372 372      61.442130  (4, 4)\n",
       "    373      62.108422  (4, 4)\n",
       "373 373      63.108422  (4, 4)\n",
       "\n",
       "[786 rows x 2 columns]"
      ]
     },
     "execution_count": 104,
     "metadata": {},
     "output_type": "execute_result"
    }
   ],
   "source": [
    "pd.DataFrame.from_dict(data, orient='index')"
   ]
  },
  {
   "cell_type": "code",
   "execution_count": 100,
   "metadata": {},
   "outputs": [
    {
     "data": {
      "text/html": [
       "<div>\n",
       "<style scoped>\n",
       "    .dataframe tbody tr th:only-of-type {\n",
       "        vertical-align: middle;\n",
       "    }\n",
       "\n",
       "    .dataframe tbody tr th {\n",
       "        vertical-align: top;\n",
       "    }\n",
       "\n",
       "    .dataframe thead th {\n",
       "        text-align: right;\n",
       "    }\n",
       "</style>\n",
       "<table border=\"1\" class=\"dataframe\">\n",
       "  <thead>\n",
       "    <tr style=\"text-align: right;\">\n",
       "      <th></th>\n",
       "      <th>0</th>\n",
       "      <th>1</th>\n",
       "    </tr>\n",
       "  </thead>\n",
       "  <tbody>\n",
       "    <tr>\n",
       "      <th>(BMI, BMI)</th>\n",
       "      <td>(0, 0)</td>\n",
       "      <td>{'weight': 1.0}</td>\n",
       "    </tr>\n",
       "    <tr>\n",
       "      <th>(BMI, race)</th>\n",
       "      <td>(0, 0)</td>\n",
       "      <td>{'weight': 1.0174750878183387}</td>\n",
       "    </tr>\n",
       "    <tr>\n",
       "      <th>(BMI, age)</th>\n",
       "      <td>(0, 0)</td>\n",
       "      <td>{'weight': 1.0961923231002593}</td>\n",
       "    </tr>\n",
       "    <tr>\n",
       "      <th>(BMI, motion)</th>\n",
       "      <td>(0, 0)</td>\n",
       "      <td>{'weight': 1.7785159747222268}</td>\n",
       "    </tr>\n",
       "    <tr>\n",
       "      <th>(BMI, 303)</th>\n",
       "      <td>(0, 4)</td>\n",
       "      <td>{'weight': 0.024910181819546674}</td>\n",
       "    </tr>\n",
       "    <tr>\n",
       "      <th>...</th>\n",
       "      <td>...</td>\n",
       "      <td>...</td>\n",
       "    </tr>\n",
       "    <tr>\n",
       "      <th>(366, 372)</th>\n",
       "      <td>(2, 4)</td>\n",
       "      <td>{'weight': 102.02636174203474}</td>\n",
       "    </tr>\n",
       "    <tr>\n",
       "      <th>(366, 373)</th>\n",
       "      <td>(2, 4)</td>\n",
       "      <td>{'weight': 102.49200736745132}</td>\n",
       "    </tr>\n",
       "    <tr>\n",
       "      <th>(372, 372)</th>\n",
       "      <td>(4, 4)</td>\n",
       "      <td>{'weight': 61.44212993845747}</td>\n",
       "    </tr>\n",
       "    <tr>\n",
       "      <th>(372, 373)</th>\n",
       "      <td>(4, 4)</td>\n",
       "      <td>{'weight': 62.10842216311206}</td>\n",
       "    </tr>\n",
       "    <tr>\n",
       "      <th>(373, 373)</th>\n",
       "      <td>(4, 4)</td>\n",
       "      <td>{'weight': 63.10842216311206}</td>\n",
       "    </tr>\n",
       "  </tbody>\n",
       "</table>\n",
       "<p>786 rows × 2 columns</p>\n",
       "</div>"
      ],
      "text/plain": [
       "                    0                                 1\n",
       "(BMI, BMI)     (0, 0)                   {'weight': 1.0}\n",
       "(BMI, race)    (0, 0)    {'weight': 1.0174750878183387}\n",
       "(BMI, age)     (0, 0)    {'weight': 1.0961923231002593}\n",
       "(BMI, motion)  (0, 0)    {'weight': 1.7785159747222268}\n",
       "(BMI, 303)     (0, 4)  {'weight': 0.024910181819546674}\n",
       "...               ...                               ...\n",
       "(366, 372)     (2, 4)    {'weight': 102.02636174203474}\n",
       "(366, 373)     (2, 4)    {'weight': 102.49200736745132}\n",
       "(372, 372)     (4, 4)     {'weight': 61.44212993845747}\n",
       "(372, 373)     (4, 4)     {'weight': 62.10842216311206}\n",
       "(373, 373)     (4, 4)     {'weight': 63.10842216311206}\n",
       "\n",
       "[786 rows x 2 columns]"
      ]
     },
     "execution_count": 100,
     "metadata": {},
     "output_type": "execute_result"
    }
   ],
   "source": [
    "exports2= {'late':\n",
    "           {'BMI':\n",
    "            {'IC1':{},'IC3':{},'IC4':{},'IC5':{},'IC6':{},'IC7':{},'IC8':{},'IC9':{},'IC10':{},'IC11':{},'IC12':{},'IC13':{},'IC14':{},'IC15':{}},\n",
    "            'AoM':\n",
    "            {'IC12':{},'IC15':{}},\n",
    "            'int':\n",
    "            {'IC2':{},'IC3':{},'IC6':{},'IC12':{},'IC13':{}}\n",
    "           },'early':\n",
    "           {'BMI':\n",
    "            {'IC1':{},'IC3':{},'IC4':{},'IC5':{},'IC6':{},'IC7':{},'IC8':{},'IC9':{},'IC10':{},'IC11':{},'IC12':{},'IC13':{},'IC14':{},'IC15':{}},\n",
    "            'AoM':\n",
    "            {'IC12':{},'IC15':{}},\n",
    "            'int':\n",
    "            {'IC2':{},'IC3':{},'IC6':{},'IC12':{},'IC13':{}}}}\n",
    "\n",
    "nodelist=[]\n",
    "edgelist=[]\n",
    "for t, item in community_graphs2.items():\n",
    "    print(t)\n",
    "    for group, value in item.items():\n",
    "        print(group)\n",
    "        if group == 'int':\n",
    "            for IC, v in value.items():\n",
    "                print(IC)\n",
    "                e,w = zip(*nx.get_edge_attributes(v['graphs'], 'weight').items())\n",
    "                edf = pd.DataFrame(list(e),columns=['x','y'])\n",
    "                edf['edge_weight']=list(w)\n",
    "                edf['group']=group\n",
    "                edf['early_late']=t\n",
    "                edf['IC']=IC\n",
    "                n1,cc = zip(*nx.get_node_attributes(v['graphs'], 'clustering').items())\n",
    "                df=pd.DataFrame(list(cc),columns=['cc'])\n",
    "                n2,btw = zip(*nx.get_node_attributes(v['graphs'], 'centrality').items())\n",
    "                df['btw']=list(btw)\n",
    "                n3,mod = zip(*nx.get_node_attributes(v['graphs'], 'modules').items())\n",
    "                df['module']=list(mod)\n",
    "                df['group']=group\n",
    "                df['early_late']=t\n",
    "                df['IC']=IC\n",
    "                df['node']=n2\n",
    "                n4,PC = zip(*nx.get_node_attributes(v['graphs'], 'PC').items())\n",
    "                df['PC']=list(PC)\n",
    "                n5,zD = zip(*nx.get_node_attributes(v['graphs'], 'zD').items())\n",
    "                df['zDegree']=list(zD)\n",
    "                exports[t][group][IC]=df\n",
    "                nodelist.append(df)\n",
    "                edgelist.append(edf)\n",
    "        \n",
    "            \n",
    "\n",
    "node_df=pd.concat(nodelist)\n",
    "# pd.DataFrame.to_csv(node_df,'/Users/gracer/Google Drive/HCP_graph/1200/datasets/early_late_nodes_new_z.csv',sep=',')\n",
    "edge_df=pd.concat(edgelist)\n",
    "edge_df = edge_df[edge_df['x'] != edge_df['y']]\n",
    "pd.DataFrame.to_csv(edge_df,'/Users/gracer/Google Drive/HCP_graph/1200/datasets/early_late_edges_new_z.csv',sep=',')\n"
   ]
  },
  {
   "cell_type": "markdown",
   "metadata": {
    "hideCode": false,
    "hidePrompt": false
   },
   "source": [
    "# Summary\n",
    "The module graphs show that the connectivity of the modules containing the interaction term are rather weak. Especially in IC3 and IC12 (module 2), they are only weakly related to the other modules. In ICs 4 and 13 we see a more robust response. This suggest to me that 4 and 12 are driving their respective connections with 3 and 12. "
   ]
  },
  {
   "cell_type": "code",
   "execution_count": null,
   "metadata": {
    "hideCode": false,
    "hidePrompt": false,
    "scrolled": true
   },
   "outputs": [],
   "source": [
    "nega_community_graphs= {'late':\n",
    "           {'BMI':\n",
    "            {'IC1':{},'IC3':{},'IC4':{},'IC5':{},'IC6':{},'IC7':{},'IC8':{},'IC9':{},'IC10':{},'IC11':{},'IC12':{},'IC13':{},'IC14':{},'IC15':{}},\n",
    "            'AoM':\n",
    "            {'IC12':{},'IC15':{}},\n",
    "            'int':\n",
    "            {'IC2':{},'IC3':{},'IC6':{},'IC12':{},'IC13':{}}\n",
    "           },'early':\n",
    "           {'BMI':\n",
    "            {'IC1':{},'IC3':{},'IC4':{},'IC5':{},'IC6':{},'IC7':{},'IC8':{},'IC9':{},'IC10':{},'IC11':{},'IC12':{},'IC13':{},'IC14':{},'IC15':{}},\n",
    "            'AoM':\n",
    "            {'IC12':{},'IC15':{}},\n",
    "            'int':\n",
    "            {'IC2':{},'IC3':{},'IC6':{},'IC12':{},'IC13':{}}}}\n",
    "\n",
    "for t, item in nega_graphs.items():\n",
    "    for group, v in item.items():\n",
    "        for IC, data in v.items():\n",
    "            comm_graph = community.induced_graph(data['modules']['partition'], \n",
    "                                            data['modules']['graph'])\n",
    "            nega_community_graphs[t][group][IC]=comm_graph\n",
    "            print(IC)\n",
    "#             module_fig(comm_graph, group, IC)"
   ]
  },
  {
   "cell_type": "code",
   "execution_count": 48,
   "metadata": {
    "hideCode": false,
    "hidePrompt": false
   },
   "outputs": [
    {
     "data": {
      "text/plain": [
       "NodeDataView({0: {}, 1: {}, 2: {}, 3: {}, 4: {}, 5: {}, 6: {}, 7: {}, 8: {}})"
      ]
     },
     "execution_count": 48,
     "metadata": {},
     "output_type": "execute_result"
    }
   ],
   "source": [
    "community_graphs['late']['int']['IC6'].nodes(data=True)"
   ]
  },
  {
   "cell_type": "markdown",
   "metadata": {
    "hideCode": false,
    "hidePrompt": false
   },
   "source": [
    "# Summary\n",
    "There are far fewer nodes and modules in the negative correlation graphs. Interestingly, in the IC2 and IC3 the module with the interaction term is different (0 vs. 2). It appears IC2 is driving the inverse relationship. "
   ]
  },
  {
   "cell_type": "code",
   "execution_count": null,
   "metadata": {
    "hideCode": false,
    "hidePrompt": false
   },
   "outputs": [],
   "source": [
    "module_fig(community_graphs['early']['int']['IC6'], 'int', 'IC6')"
   ]
  },
  {
   "cell_type": "code",
   "execution_count": null,
   "metadata": {},
   "outputs": [],
   "source": [
    "# graphs['late']['BMI']['IC1']['PC'][0]"
   ]
  },
  {
   "cell_type": "code",
   "execution_count": 26,
   "metadata": {
    "scrolled": false
   },
   "outputs": [
    {
     "name": "stdout",
     "output_type": "stream",
     "text": [
      "0\n",
      "1\n",
      "2\n",
      "3\n",
      "4\n",
      "5\n",
      "6\n",
      "7\n",
      "8\n",
      "0\n",
      "1\n",
      "2\n",
      "3\n",
      "0\n",
      "1\n",
      "2\n",
      "3\n",
      "4\n",
      "5\n",
      "6\n",
      "7\n",
      "8\n",
      "0\n",
      "1\n",
      "2\n",
      "3\n",
      "4\n",
      "0\n",
      "1\n",
      "2\n",
      "3\n",
      "4\n",
      "0\n",
      "1\n",
      "2\n",
      "3\n",
      "4\n",
      "5\n",
      "6\n",
      "7\n",
      "0\n",
      "1\n",
      "2\n",
      "3\n",
      "4\n",
      "5\n",
      "0\n",
      "1\n",
      "2\n",
      "3\n",
      "4\n",
      "5\n",
      "6\n",
      "0\n",
      "1\n",
      "2\n",
      "3\n",
      "4\n",
      "5\n",
      "0\n",
      "1\n",
      "2\n",
      "3\n",
      "4\n",
      "5\n"
     ]
    }
   ],
   "source": [
    "dictMeanMod={'late':{'IC2':{'mean':{},'SD':{},'raw':{},'z':{}},'IC3':{'mean':{},'SD':{},'raw':{},'z':{}},'IC6':{'mean':{},'SD':{},'raw':{},'z':{}},'IC12':{'mean':{},'SD':{},'raw':{},'z':{}},'IC13':{'mean':{},'SD':{},'raw':{},'z':{}}}, \n",
    "             'early':{'IC2':{'mean':{},'SD':{},'raw':{},'z':{}},'IC3':{'mean':{},'SD':{},'raw':{},'z':{}},'IC6':{'mean':{},'SD':{},'raw':{},'z':{}},'IC12':{'mean':{},'SD':{},'raw':{},'z':{}},'IC13':{'mean':{},'SD':{},'raw':{},'z':{}}}}\n",
    "for t, item in graphs.items():\n",
    "    for IC, value in item['int'].items():\n",
    "        G=value['graphs']\n",
    "        G.nodes(data=True)\n",
    "        for M in list(set(value['modules']['values'])):\n",
    "            print(M)\n",
    "            interest = [x for x,y in G.nodes(data=True) if y['modules']==M]\n",
    "            X=nx.subgraph(G, interest)\n",
    "            dictInt=dict(X.degree)\n",
    "            keys=list(dictInt.keys())\n",
    "            mu=np.mean(list(dictInt.values()))\n",
    "            sd=np.std(list(dictInt.values()))\n",
    "            z=np.subtract(list(dictInt.values()),mu)\n",
    "            if sd == 0:\n",
    "                SD=[1]*len(z)\n",
    "                Z=np.divide(z,SD)\n",
    "                zD = dict(zip(keys, Z))\n",
    "                dictMeanMod[t][IC]['z'][M]=zD\n",
    "                nx.set_node_attributes(G, zD, 'zD')\n",
    "            else:\n",
    "                SD=[sd]*len(z)\n",
    "                Z=np.divide(z,SD)\n",
    "                zD = dict(zip(keys, Z))\n",
    "                dictMeanMod[t][IC]['z'][M]=zD\n",
    "                nx.set_node_attributes(G, zD, 'zD')\n",
    "            dictMeanMod[t][IC]['mean'][M]=mu\n",
    "            dictMeanMod[t][IC]['SD'][M]=sd\n",
    "            dictMeanMod[t][IC]['raw'][M]=dictInt\n",
    "            \n",
    "            \n",
    "            "
   ]
  },
  {
   "cell_type": "code",
   "execution_count": 39,
   "metadata": {
    "hideCode": false,
    "hidePrompt": false,
    "scrolled": true
   },
   "outputs": [
    {
     "name": "stdout",
     "output_type": "stream",
     "text": [
      "late\n",
      "BMI\n",
      "AoM\n",
      "int\n",
      "IC2\n",
      "IC3\n",
      "IC6\n",
      "IC12\n",
      "IC13\n",
      "early\n",
      "BMI\n",
      "AoM\n",
      "int\n",
      "IC2\n",
      "IC3\n",
      "IC6\n",
      "IC12\n",
      "IC13\n"
     ]
    }
   ],
   "source": [
    "exports= {'late':\n",
    "           {'BMI':\n",
    "            {'IC1':{},'IC3':{},'IC4':{},'IC5':{},'IC6':{},'IC7':{},'IC8':{},'IC9':{},'IC10':{},'IC11':{},'IC12':{},'IC13':{},'IC14':{},'IC15':{}},\n",
    "            'AoM':\n",
    "            {'IC12':{},'IC15':{}},\n",
    "            'int':\n",
    "            {'IC2':{},'IC3':{},'IC6':{},'IC12':{},'IC13':{}}\n",
    "           },'early':\n",
    "           {'BMI':\n",
    "            {'IC1':{},'IC3':{},'IC4':{},'IC5':{},'IC6':{},'IC7':{},'IC8':{},'IC9':{},'IC10':{},'IC11':{},'IC12':{},'IC13':{},'IC14':{},'IC15':{}},\n",
    "            'AoM':\n",
    "            {'IC12':{},'IC15':{}},\n",
    "            'int':\n",
    "            {'IC2':{},'IC3':{},'IC6':{},'IC12':{},'IC13':{}}}}\n",
    "\n",
    "nodelist=[]\n",
    "edgelist=[]\n",
    "for t, item in graphs.items():\n",
    "    print(t)\n",
    "    for group, value in item.items():\n",
    "        print(group)\n",
    "        if group == 'int':\n",
    "            for IC, v in value.items():\n",
    "                print(IC)\n",
    "                e,w = zip(*nx.get_edge_attributes(v['graphs'], 'weight').items())\n",
    "                edf = pd.DataFrame(list(e),columns=['x','y'])\n",
    "                edf['edge_weight']=list(w)\n",
    "                edf['group']=group\n",
    "                edf['early_late']=t\n",
    "                edf['IC']=IC\n",
    "                n1,cc = zip(*nx.get_node_attributes(v['graphs'], 'clustering').items())\n",
    "                df=pd.DataFrame(list(cc),columns=['cc'])\n",
    "                n2,btw = zip(*nx.get_node_attributes(v['graphs'], 'centrality').items())\n",
    "                df['btw']=list(btw)\n",
    "                n3,mod = zip(*nx.get_node_attributes(v['graphs'], 'modules').items())\n",
    "                df['module']=list(mod)\n",
    "                df['group']=group\n",
    "                df['early_late']=t\n",
    "                df['IC']=IC\n",
    "                df['node']=n2\n",
    "                n4,PC = zip(*nx.get_node_attributes(v['graphs'], 'PC').items())\n",
    "                df['PC']=list(PC)\n",
    "                n5,zD = zip(*nx.get_node_attributes(v['graphs'], 'zD').items())\n",
    "                df['zDegree']=list(zD)\n",
    "                exports[t][group][IC]=df\n",
    "                nodelist.append(df)\n",
    "                edgelist.append(edf)\n",
    "        \n",
    "            \n",
    "\n",
    "node_df=pd.concat(nodelist)\n",
    "pd.DataFrame.to_csv(node_df,'/Users/gracer/Google Drive/HCP_graph/1200/datasets/early_late_nodes_new_to_load.csv',sep=',')\n",
    "edge_df=pd.concat(edgelist)\n",
    "edge_df = edge_df[edge_df['x'] != edge_df['y']]\n",
    "# pd.DataFrame.to_csv(edge_df,'/Users/gracer/Google Drive/HCP_graph/1200/datasets/early_late_edges_new_z.csv',sep=',')\n"
   ]
  },
  {
   "cell_type": "code",
   "execution_count": 28,
   "metadata": {
    "hideCode": false,
    "hidePrompt": false
   },
   "outputs": [],
   "source": [
    "test=node_df.loc[(node_df['group'] == 'int') &( node_df['early_late'] == 'late') & ( node_df['module'] == 0) & ( node_df['IC'] == 'IC2')]['node']\n",
    "test0=node_df.loc[(node_df['group'] == 'int') &( node_df['early_late'] == 'early') & ( node_df['module'] == 0) & ( node_df['IC'] == 'IC2')]['node']\n"
   ]
  },
  {
   "cell_type": "code",
   "execution_count": 29,
   "metadata": {
    "scrolled": true
   },
   "outputs": [
    {
     "data": {
      "text/plain": [
       "0      IC2\n",
       "1      IC2\n",
       "2      IC2\n",
       "3      IC2\n",
       "4      IC2\n",
       "      ... \n",
       "38    IC13\n",
       "39    IC13\n",
       "40    IC13\n",
       "41    IC13\n",
       "42    IC13\n",
       "Name: IC, Length: 309, dtype: object"
      ]
     },
     "execution_count": 29,
     "metadata": {},
     "output_type": "execute_result"
    }
   ],
   "source": [
    "node_df['IC']"
   ]
  },
  {
   "cell_type": "code",
   "execution_count": 30,
   "metadata": {
    "scrolled": true
   },
   "outputs": [
    {
     "data": {
      "text/plain": [
       "count    17.000000\n",
       "mean      0.804755\n",
       "std       0.008678\n",
       "min       0.786982\n",
       "25%       0.797500\n",
       "50%       0.807258\n",
       "75%       0.807258\n",
       "max       0.816327\n",
       "Name: PC, dtype: float64"
      ]
     },
     "execution_count": 30,
     "metadata": {},
     "output_type": "execute_result"
    }
   ],
   "source": [
    "node_df['PC'].loc[(node_df['early_late'] == 'late') & (node_df['IC'] == 'IC13') & (node_df['module'] == 2)].describe()\n",
    "\n"
   ]
  },
  {
   "cell_type": "markdown",
   "metadata": {},
   "source": [
    "### The hubness of a node can be defined by its within-module  degree: \n",
    "If a given node  i  has a value of    \n",
    "zi  >  2.5. It is classified as  a hub, otherwise as a non-hub.\n",
    "\n",
    "### For hubs    \n",
    "0  <   Pi  <  0.30    provincial hub   \n",
    "0.30  <   Pi  <  0.75   connector hub   \n",
    "0.75  <   Pi  <  1.0 is a  kinless hub. \n",
    "\n",
    "### For non-hubs    \n",
    "0  <   Pi  <  0.05,  ultra peripheral   node  \n",
    "0.05  <   Pi  <  0.62  peripheral  node  \n",
    "0.62  <   Pi  <  0.80  connector node  \n",
    "0.80  <   Pi  <  1.0    kinless node  "
   ]
  },
  {
   "cell_type": "code",
   "execution_count": 31,
   "metadata": {
    "scrolled": true
   },
   "outputs": [
    {
     "data": {
      "text/plain": [
       "False    309\n",
       "Name: hub, dtype: int64"
      ]
     },
     "execution_count": 31,
     "metadata": {},
     "output_type": "execute_result"
    }
   ],
   "source": [
    "node_df['hub'] = (node_df['zDegree'] > 2.5)\n",
    "node_df['hub'].value_counts()"
   ]
  },
  {
   "cell_type": "markdown",
   "metadata": {},
   "source": [
    "No hubs"
   ]
  },
  {
   "cell_type": "code",
   "execution_count": 32,
   "metadata": {},
   "outputs": [],
   "source": [
    "node_df['ultra_peripheral'] = (node_df['PC'] > 0) & (node_df['PC'] <= 0.05)\n",
    "node_df['peripheral'] = (node_df['PC'] > 0.05) & (node_df['PC'] <= 0.62)\n",
    "node_df['connector'] = (node_df['PC'] > 0.62) & (node_df['PC'] <= 0.80)\n",
    "node_df['kinless'] = (node_df['PC'] > 0.80) & (node_df['PC'] <= 1.00)\n"
   ]
  },
  {
   "cell_type": "code",
   "execution_count": 33,
   "metadata": {
    "scrolled": true
   },
   "outputs": [
    {
     "name": "stdout",
     "output_type": "stream",
     "text": [
      "False    309\n",
      "Name: ultra_peripheral, dtype: int64\n",
      "False    284\n",
      "True      25\n",
      "Name: peripheral, dtype: int64\n",
      "False    270\n",
      "True      39\n",
      "Name: connector, dtype: int64\n",
      "True     238\n",
      "False     71\n",
      "Name: kinless, dtype: int64\n"
     ]
    }
   ],
   "source": [
    "print(node_df['ultra_peripheral'].value_counts())\n",
    "print(node_df['peripheral'].value_counts())\n",
    "print(node_df['connector'].value_counts())\n",
    "print(node_df['kinless'].value_counts())"
   ]
  },
  {
   "cell_type": "code",
   "execution_count": 34,
   "metadata": {},
   "outputs": [
    {
     "name": "stdout",
     "output_type": "stream",
     "text": [
      "early\n",
      "this is IC2\n",
      "this is module 0\n",
      "peripheral\n",
      "3\n",
      "connector\n",
      "1\n",
      "kinless\n",
      "1\n",
      "this is module 1\n",
      "peripheral\n",
      "0\n",
      "connector\n",
      "0\n",
      "kinless\n",
      "2\n",
      "this is module 2\n",
      "peripheral\n",
      "0\n",
      "connector\n",
      "0\n",
      "kinless\n",
      "5\n",
      "this is module 3\n",
      "peripheral\n",
      "0\n",
      "connector\n",
      "0\n",
      "kinless\n",
      "5\n",
      "this is module 4\n",
      "peripheral\n",
      "0\n",
      "connector\n",
      "0\n",
      "kinless\n",
      "7\n",
      "this is module 5\n",
      "peripheral\n",
      "0\n",
      "connector\n",
      "0\n",
      "kinless\n",
      "10\n",
      "this is module 6\n",
      "peripheral\n",
      "0\n",
      "connector\n",
      "0\n",
      "kinless\n",
      "3\n",
      "this is module 7\n",
      "peripheral\n",
      "0\n",
      "connector\n",
      "0\n",
      "kinless\n",
      "2\n",
      "this is IC3\n",
      "this is module 0\n",
      "peripheral\n",
      "1\n",
      "connector\n",
      "1\n",
      "kinless\n",
      "1\n",
      "this is module 1\n",
      "peripheral\n",
      "1\n",
      "connector\n",
      "0\n",
      "kinless\n",
      "1\n",
      "this is module 2\n",
      "peripheral\n",
      "0\n",
      "connector\n",
      "0\n",
      "kinless\n",
      "1\n",
      "this is module 3\n",
      "peripheral\n",
      "0\n",
      "connector\n",
      "6\n",
      "kinless\n",
      "0\n",
      "this is module 4\n",
      "peripheral\n",
      "0\n",
      "connector\n",
      "0\n",
      "kinless\n",
      "2\n",
      "this is module 5\n",
      "peripheral\n",
      "0\n",
      "connector\n",
      "0\n",
      "kinless\n",
      "2\n",
      "this is IC6\n",
      "this is module 0\n",
      "peripheral\n",
      "4\n",
      "connector\n",
      "0\n",
      "kinless\n",
      "1\n",
      "this is module 1\n",
      "peripheral\n",
      "0\n",
      "connector\n",
      "0\n",
      "kinless\n",
      "4\n",
      "this is module 2\n",
      "peripheral\n",
      "0\n",
      "connector\n",
      "0\n",
      "kinless\n",
      "1\n",
      "this is module 3\n",
      "peripheral\n",
      "0\n",
      "connector\n",
      "0\n",
      "kinless\n",
      "7\n",
      "this is module 4\n",
      "peripheral\n",
      "0\n",
      "connector\n",
      "0\n",
      "kinless\n",
      "8\n",
      "this is module 5\n",
      "peripheral\n",
      "0\n",
      "connector\n",
      "0\n",
      "kinless\n",
      "4\n",
      "this is module 6\n",
      "peripheral\n",
      "0\n",
      "connector\n",
      "0\n",
      "kinless\n",
      "5\n",
      "this is IC12\n",
      "this is module 0\n",
      "peripheral\n",
      "1\n",
      "connector\n",
      "2\n",
      "kinless\n",
      "0\n",
      "this is module 1\n",
      "peripheral\n",
      "0\n",
      "connector\n",
      "0\n",
      "kinless\n",
      "2\n",
      "this is module 2\n",
      "peripheral\n",
      "0\n",
      "connector\n",
      "0\n",
      "kinless\n",
      "1\n",
      "this is module 3\n",
      "peripheral\n",
      "0\n",
      "connector\n",
      "0\n",
      "kinless\n",
      "4\n",
      "this is module 4\n",
      "peripheral\n",
      "0\n",
      "connector\n",
      "7\n",
      "kinless\n",
      "0\n",
      "this is module 5\n",
      "peripheral\n",
      "0\n",
      "connector\n",
      "0\n",
      "kinless\n",
      "1\n",
      "this is IC13\n",
      "this is module 0\n",
      "peripheral\n",
      "2\n",
      "connector\n",
      "1\n",
      "kinless\n",
      "1\n",
      "this is module 1\n",
      "peripheral\n",
      "0\n",
      "connector\n",
      "0\n",
      "kinless\n",
      "2\n",
      "this is module 2\n",
      "peripheral\n",
      "0\n",
      "connector\n",
      "0\n",
      "kinless\n",
      "15\n",
      "this is module 3\n",
      "peripheral\n",
      "0\n",
      "connector\n",
      "0\n",
      "kinless\n",
      "7\n",
      "this is module 4\n",
      "peripheral\n",
      "0\n",
      "connector\n",
      "0\n",
      "kinless\n",
      "13\n",
      "this is module 5\n",
      "peripheral\n",
      "0\n",
      "connector\n",
      "0\n",
      "kinless\n",
      "2\n",
      "late\n",
      "this is IC2\n",
      "this is module 0\n",
      "peripheral\n",
      "2\n",
      "connector\n",
      "1\n",
      "kinless\n",
      "0\n",
      "this is module 1\n",
      "peripheral\n",
      "0\n",
      "connector\n",
      "0\n",
      "kinless\n",
      "1\n",
      "this is module 2\n",
      "peripheral\n",
      "0\n",
      "connector\n",
      "0\n",
      "kinless\n",
      "3\n",
      "this is module 3\n",
      "peripheral\n",
      "0\n",
      "connector\n",
      "0\n",
      "kinless\n",
      "7\n",
      "this is module 4\n",
      "peripheral\n",
      "0\n",
      "connector\n",
      "0\n",
      "kinless\n",
      "5\n",
      "this is module 5\n",
      "peripheral\n",
      "0\n",
      "connector\n",
      "0\n",
      "kinless\n",
      "5\n",
      "this is module 6\n",
      "peripheral\n",
      "0\n",
      "connector\n",
      "0\n",
      "kinless\n",
      "8\n",
      "this is module 7\n",
      "peripheral\n",
      "0\n",
      "connector\n",
      "0\n",
      "kinless\n",
      "1\n",
      "this is module 8\n",
      "peripheral\n",
      "0\n",
      "connector\n",
      "0\n",
      "kinless\n",
      "1\n",
      "this is IC3\n",
      "this is module 0\n",
      "peripheral\n",
      "2\n",
      "connector\n",
      "0\n",
      "kinless\n",
      "1\n",
      "this is module 1\n",
      "peripheral\n",
      "0\n",
      "connector\n",
      "0\n",
      "kinless\n",
      "2\n",
      "this is module 2\n",
      "peripheral\n",
      "0\n",
      "connector\n",
      "6\n",
      "kinless\n",
      "0\n",
      "this is module 3\n",
      "peripheral\n",
      "0\n",
      "connector\n",
      "2\n",
      "kinless\n",
      "2\n",
      "this is IC6\n",
      "this is module 0\n",
      "peripheral\n",
      "4\n",
      "connector\n",
      "1\n",
      "kinless\n",
      "1\n",
      "this is module 1\n",
      "peripheral\n",
      "0\n",
      "connector\n",
      "0\n",
      "kinless\n",
      "1\n",
      "this is module 2\n",
      "peripheral\n",
      "0\n",
      "connector\n",
      "0\n",
      "kinless\n",
      "6\n",
      "this is module 3\n",
      "peripheral\n",
      "0\n",
      "connector\n",
      "0\n",
      "kinless\n",
      "9\n",
      "this is module 4\n",
      "peripheral\n",
      "0\n",
      "connector\n",
      "0\n",
      "kinless\n",
      "3\n",
      "this is module 5\n",
      "peripheral\n",
      "0\n",
      "connector\n",
      "0\n",
      "kinless\n",
      "4\n",
      "this is module 6\n",
      "peripheral\n",
      "0\n",
      "connector\n",
      "0\n",
      "kinless\n",
      "8\n",
      "this is module 7\n",
      "peripheral\n",
      "0\n",
      "connector\n",
      "0\n",
      "kinless\n",
      "4\n",
      "this is module 8\n",
      "peripheral\n",
      "0\n",
      "connector\n",
      "0\n",
      "kinless\n",
      "1\n",
      "this is IC12\n",
      "this is module 0\n",
      "peripheral\n",
      "3\n",
      "connector\n",
      "0\n",
      "kinless\n",
      "0\n",
      "this is module 1\n",
      "peripheral\n",
      "0\n",
      "connector\n",
      "0\n",
      "kinless\n",
      "2\n",
      "this is module 2\n",
      "peripheral\n",
      "0\n",
      "connector\n",
      "0\n",
      "kinless\n",
      "3\n",
      "this is module 3\n",
      "peripheral\n",
      "0\n",
      "connector\n",
      "4\n",
      "kinless\n",
      "2\n",
      "this is module 4\n",
      "peripheral\n",
      "0\n",
      "connector\n",
      "0\n",
      "kinless\n",
      "4\n",
      "this is IC13\n",
      "this is module 0\n",
      "peripheral\n",
      "2\n",
      "connector\n",
      "0\n",
      "kinless\n",
      "2\n",
      "this is module 1\n",
      "peripheral\n",
      "0\n",
      "connector\n",
      "0\n",
      "kinless\n",
      "1\n",
      "this is module 2\n",
      "peripheral\n",
      "0\n",
      "connector\n",
      "7\n",
      "kinless\n",
      "10\n",
      "this is module 3\n",
      "peripheral\n",
      "0\n",
      "connector\n",
      "0\n",
      "kinless\n",
      "5\n",
      "this is module 4\n",
      "peripheral\n",
      "0\n",
      "connector\n",
      "0\n",
      "kinless\n",
      "16\n"
     ]
    }
   ],
   "source": [
    "time=['early','late']\n",
    "IC=['IC2','IC3','IC6','IC12','IC13']\n",
    "typ=['peripheral','connector','kinless']\n",
    "\n",
    "for t in time:\n",
    "    print(t)\n",
    "    for ic in IC:\n",
    "        print('this is %s'%ic)\n",
    "        for mod in set(node_df['module'].loc[(node_df['early_late'] == t) & (node_df['IC'] == ic)]):\n",
    "            print('this is module %s'%mod)\n",
    "            for ty in typ:\n",
    "                print(ty)\n",
    "                print(len(list(node_df['node'].loc[(node_df['early_late'] == t) & (node_df['IC'] == ic) & (node_df['module'] == mod) & (node_df[ty]== True)].value_counts())))\n"
   ]
  },
  {
   "cell_type": "code",
   "execution_count": 38,
   "metadata": {
    "scrolled": true
   },
   "outputs": [
    {
     "name": "stdout",
     "output_type": "stream",
     "text": [
      "area    R_3b_ROI\n",
      "Name: 27, dtype: object\n",
      "area    R_1_ROI\n",
      "Name: 69, dtype: object\n",
      "area    R_6v_ROI\n",
      "Name: 74, dtype: object\n",
      "area    R_PFop_ROI\n",
      "Name: 165, dtype: object\n",
      "area    L_1_ROI\n",
      "Name: 249, dtype: object\n",
      "area    L_6v_ROI\n",
      "Name: 254, dtype: object\n",
      "area    L_43_ROI\n",
      "Name: 297, dtype: object\n"
     ]
    }
   ],
   "source": [
    "IC13_4=list(node_df['node'].loc[(node_df['early_late'] == 'late') & (node_df['IC'] == 'IC13') & (node_df['module'] == 2) & (node_df['connector']== True)])\n",
    "for area in IC13_4:\n",
    "    print(labels.iloc[area])"
   ]
  },
  {
   "cell_type": "code",
   "execution_count": 216,
   "metadata": {},
   "outputs": [
    {
     "data": {
      "text/plain": [
       "area    L_PIT_ROI\n",
       "Name: 220, dtype: object"
      ]
     },
     "execution_count": 216,
     "metadata": {},
     "output_type": "execute_result"
    }
   ],
   "source": [
    "labels.iloc[220]"
   ]
  },
  {
   "cell_type": "code",
   "execution_count": 194,
   "metadata": {},
   "outputs": [
    {
     "data": {
      "text/plain": [
       "{0, 1, 2, 3, 4}"
      ]
     },
     "execution_count": 194,
     "metadata": {},
     "output_type": "execute_result"
    }
   ],
   "source": [
    "mods=set(node_df['module'].loc[(node_df['early_late'] == 'late') & (node_df['IC'] == 'IC13')])"
   ]
  },
  {
   "cell_type": "code",
   "execution_count": 195,
   "metadata": {
    "hideCode": false,
    "hidePrompt": false
   },
   "outputs": [],
   "source": [
    "ALL_DATA={\n",
    "'dfs':dfs,\n",
    "'zscores_thr':zscores_thr,\n",
    "'graphs':graphs,\n",
    "'nega_graphs':nega_graphs,\n",
    "'subgraphs':subgraphs,\n",
    "'community_graphs':community_graphs,\n",
    "'exports':exports\n",
    "         }"
   ]
  },
  {
   "cell_type": "code",
   "execution_count": null,
   "metadata": {
    "hideCode": false,
    "hidePrompt": false,
    "scrolled": true
   },
   "outputs": [],
   "source": [
    "pickle.dump(ALL_DATA, open('/Users/gracer/Google Drive/HCP_graph/1200/datasets/finalApril6.pkl', 'wb'), protocol=4)"
   ]
  },
  {
   "cell_type": "code",
   "execution_count": null,
   "metadata": {
    "hideCode": false,
    "hidePrompt": false
   },
   "outputs": [],
   "source": [
    "ALL_DATA=onetoughjar('/Users/gracer/Google Drive/HCP_graph/1200/datasets/finalel.pkl')"
   ]
  },
  {
   "cell_type": "code",
   "execution_count": null,
   "metadata": {},
   "outputs": [],
   "source": []
  },
  {
   "cell_type": "code",
   "execution_count": null,
   "metadata": {
    "hideCode": false,
    "hidePrompt": false
   },
   "outputs": [],
   "source": [
    "dfs=ALL_DATA['dfs']\n",
    "graphs=ALL_DATA['graphs']\n",
    "zscores_thr=ALL_DATA['zscores_thr']\n",
    "nega_graphs=ALL_DATA['nega_graphs']\n",
    "dfs=ALL_DATA['dfs']\n",
    "subgraphs=ALL_DATA['subgraphs']\n",
    "community_graphs=ALL_DATA['community_graphs']"
   ]
  },
  {
   "cell_type": "code",
   "execution_count": null,
   "metadata": {
    "scrolled": true
   },
   "outputs": [],
   "source": [
    "graphs['late']['BMI']['IC1']['modules']['graph']"
   ]
  },
  {
   "cell_type": "code",
   "execution_count": null,
   "metadata": {},
   "outputs": [],
   "source": []
  },
  {
   "cell_type": "markdown",
   "metadata": {},
   "source": [
    "# Checking signficant differences between groups"
   ]
  },
  {
   "cell_type": "code",
   "execution_count": 26,
   "metadata": {},
   "outputs": [],
   "source": [
    "def edgy(H):\n",
    "    print('start edges')\n",
    "    e,w = zip(*nx.get_edge_attributes(H, 'weight').items())\n",
    "    edf = pd.DataFrame(list(e),columns=['x','y'])\n",
    "    edf['edge_weight']=list(w)\n",
    "    edf = edf[edf['x'] != edf['y']]\n",
    "    return(edf)"
   ]
  },
  {
   "cell_type": "code",
   "execution_count": 27,
   "metadata": {
    "hideCode": false,
    "hidePrompt": false,
    "scrolled": true
   },
   "outputs": [],
   "source": [
    "def find_mod(G,mod):\n",
    "    print(mod)\n",
    "    area=[a for a, m in nx.get_node_attributes(G, 'modules').items() if m == mod]\n",
    "    H = G.subgraph(area)\n",
    "    edf=edgy(H)\n",
    "    print(edf.sort_values(by=['edge_weight']))\n",
    "    for x in area:\n",
    "        y=labels.iloc[x][0]\n",
    "        print('Area %s in module %s is %s'%(x,mod,y))\n",
    "    return(edf)\n",
    "    \n",
    "    "
   ]
  },
  {
   "cell_type": "code",
   "execution_count": 28,
   "metadata": {},
   "outputs": [],
   "source": [
    "def hood(x,G,node,graph):\n",
    "    a=list(x['x'])+list(nx.all_neighbors(G, node))\n",
    "    nodes=list(set(a))\n",
    "    outer= G.subgraph(nodes)\n",
    "    edf=edgy(outer)\n",
    "    edf = edf[edf['x'] == node]\n",
    "    print(edf.sort_values(by=['edge_weight']))\n",
    "    if graph == 'yes':\n",
    "        grace_graph(outer, 'Connections')\n",
    "    return(edf)"
   ]
  },
  {
   "cell_type": "code",
   "execution_count": 29,
   "metadata": {
    "hideCode": false,
    "hidePrompt": false
   },
   "outputs": [
    {
     "name": "stdout",
     "output_type": "stream",
     "text": [
      "8\n",
      "start edges\n",
      "Empty DataFrame\n",
      "Columns: [x, y, edge_weight]\n",
      "Index: []\n",
      "Area 275 in module 8 is L_a47r_ROI\n"
     ]
    }
   ],
   "source": [
    "G=graphs['late']['int']['IC6']['graphs']\n",
    "x=find_mod(G, 8)"
   ]
  },
  {
   "cell_type": "code",
   "execution_count": 30,
   "metadata": {},
   "outputs": [],
   "source": [
    "def edgy(H):\n",
    "    print('start edges')\n",
    "    e,w = zip(*nx.get_edge_attributes(H, 'weight').items())\n",
    "    edf = pd.DataFrame(list(e),columns=['x','y'])\n",
    "    edf['edge_weight']=list(w)\n",
    "    edf = edf[edf['x'] != edf['y']]\n",
    "    return(edf)"
   ]
  },
  {
   "cell_type": "code",
   "execution_count": 31,
   "metadata": {
    "hideCode": false,
    "hidePrompt": false,
    "scrolled": true
   },
   "outputs": [],
   "source": [
    "def find_mod(G,mod):\n",
    "    print(mod)\n",
    "    area={}\n",
    "    indx=[a for a, m in nx.get_node_attributes(G, 'modules').items() if m == mod]\n",
    "    for b, n in nx.get_node_attributes(G, 'area').items():\n",
    "        area[b]=n\n",
    "    H = G.subgraph(indx)\n",
    "    edf=edgy(H)\n",
    "    print(edf.sort_values(by=['edge_weight']))\n",
    "    for x in indx:\n",
    "        try:\n",
    "            y=labels.loc[x][0]\n",
    "            print('Area %s in module %s is %s'%(x,mod,y))\n",
    "        except:\n",
    "            y=area[x]\n",
    "            print('Area %s in module %s is %s'%(x,mod,y))\n",
    "    return(edf)\n",
    "    \n",
    "    "
   ]
  },
  {
   "cell_type": "code",
   "execution_count": 32,
   "metadata": {},
   "outputs": [],
   "source": [
    "def hood(x,G,node,graph):\n",
    "    a=list(x['x'])+list(nx.all_neighbors(G, node))\n",
    "    nodes=list(set(a))\n",
    "    outer= G.subgraph(nodes)\n",
    "    edf=edgy(outer)\n",
    "    edf = edf[edf['x'] == node]\n",
    "    print(edf.sort_values(by=['edge_weight']))\n",
    "    if graph == 'yes':\n",
    "        grace_graph(outer, 'Connections','no')\n",
    "    return(edf)"
   ]
  },
  {
   "cell_type": "code",
   "execution_count": 33,
   "metadata": {},
   "outputs": [],
   "source": [
    "def hot(cor, name):\n",
    "    with sns.axes_style(\"white\"):\n",
    "        f, ax = plt.subplots(figsize=(21, 15))\n",
    "        ax = sns.heatmap(cor,annot=False, vmin=-1, vmax=1,square=True, cmap='gnuplot2',fmt='f')\n",
    "        ax.set_title(name)\n",
    "\n"
   ]
  },
  {
   "cell_type": "code",
   "execution_count": 34,
   "metadata": {
    "hideCode": false,
    "hidePrompt": false
   },
   "outputs": [
    {
     "name": "stdout",
     "output_type": "stream",
     "text": [
      "2\n",
      "start edges\n",
      "       x    y  edge_weight\n",
      "29   165  254     0.389105\n",
      "25   165  206     0.467410\n",
      "27   165  249     0.489634\n",
      "26   165  207     0.504207\n",
      "24   165  186     0.504874\n",
      "..   ...  ...          ...\n",
      "34    71   27     0.899336\n",
      "109  207   27     0.901779\n",
      "43    71  251     0.908039\n",
      "98   206   26     0.925839\n",
      "114  207  251     0.926409\n",
      "\n",
      "[136 rows x 3 columns]\n",
      "Area 26 in module 2 is R_4_ROI\n",
      "Area 27 in module 2 is R_3b_ROI\n",
      "Area 69 in module 2 is R_1_ROI\n",
      "Area 71 in module 2 is R_3a_ROI\n",
      "Area 74 in module 2 is R_6v_ROI\n",
      "Area 117 in module 2 is R_43_ROI\n",
      "Area 118 in module 2 is R_OP4_ROI\n",
      "Area 165 in module 2 is R_PFop_ROI\n",
      "Area 186 in module 2 is R_Ig_ROI\n",
      "Area 206 in module 2 is L_4_ROI\n",
      "Area 207 in module 2 is L_3b_ROI\n",
      "Area 249 in module 2 is L_1_ROI\n",
      "Area 251 in module 2 is L_3a_ROI\n",
      "Area 254 in module 2 is L_6v_ROI\n",
      "Area 297 in module 2 is L_43_ROI\n",
      "Area 298 in module 2 is L_OP4_ROI\n",
      "Area 366 in module 2 is L_Ig_ROI\n"
     ]
    }
   ],
   "source": [
    "G=graphs['late']['int']['IC13']['graphs']\n",
    "x=find_mod(G, 2)"
   ]
  },
  {
   "cell_type": "code",
   "execution_count": null,
   "metadata": {},
   "outputs": [],
   "source": [
    "t=hood(x,G,345,'yes')"
   ]
  },
  {
   "cell_type": "code",
   "execution_count": null,
   "metadata": {
    "hideCode": false,
    "hidePrompt": false,
    "scrolled": true
   },
   "outputs": [],
   "source": [
    "for item in t['y']:\n",
    "    print(item)\n",
    "    print(G.nodes(data=True)[item])\n",
    "    mod=G.nodes(data=True)[item]['modules']\n",
    "    find_mod(G, mod)"
   ]
  },
  {
   "cell_type": "code",
   "execution_count": null,
   "metadata": {},
   "outputs": [],
   "source": []
  },
  {
   "cell_type": "code",
   "execution_count": null,
   "metadata": {},
   "outputs": [],
   "source": [
    "grace_graph(G.subgraph(a), 'Int_test')"
   ]
  },
  {
   "cell_type": "markdown",
   "metadata": {},
   "source": [
    "# LAST IDEA"
   ]
  },
  {
   "cell_type": "code",
   "execution_count": null,
   "metadata": {
    "hideCode": false,
    "hidePrompt": false
   },
   "outputs": [],
   "source": [
    "ALL_DATA=onetoughjar('/Users/gracer/Google Drive/HCP_graph/1200/datasets/finalel.pkl')"
   ]
  },
  {
   "cell_type": "markdown",
   "metadata": {},
   "source": [
    "Idea, concatonate the cconnected graphs to see how they interact with each other. Port into R for rmcorr, here for viz"
   ]
  },
  {
   "cell_type": "code",
   "execution_count": null,
   "metadata": {
    "scrolled": true
   },
   "outputs": [],
   "source": [
    "df = pd.DataFrame()\n",
    "datas={'late':\n",
    "  {'int': {'IC_2_3':df, 'IC_3_6':df, 'IC_12_13':df}},\n",
    " 'early': {\n",
    "  'int': {'IC_2_3':df, 'IC_3_6':df, 'IC_12_13':df}}}\n",
    "A={'late':{'int':{\n",
    "    'IC_2_3':{}, 'IC_3_6':{}, 'IC_12_13':{}}},\n",
    " 'early': {'int':\n",
    "           {'IC_2_3':{}, 'IC_3_6':{}, 'IC_12_13':{}}}}\n",
    "l=['BMI','int','AoM','motion','age','race']\n",
    "for t, item in datas.items():\n",
    "    for IC, df in item['int'].items():\n",
    "        ses=IC.split('_')\n",
    "        for x in ses[1:3]:\n",
    "            col_names=list(zscores_thr[t]['int']['IC%s'%(x)].columns[7:])\n",
    "            L={}\n",
    "            for i in col_names:\n",
    "                try:\n",
    "                    sp=i.split('_')\n",
    "                    L[i]='%s_%s'%(sp[0],sp[1])\n",
    "                except:\n",
    "                    L[i]='%s_%s'%(str(i),x)\n",
    "            zscores_thr[t]['int']['IC%s'%(x)] = zscores_thr[t]['int']['IC%s'%(x)].rename(L, axis='columns')\n",
    "            for indx, val in label_dict.items():\n",
    "                key='%s_%s'%(indx,x)\n",
    "                value='%s_%s'%(val['area'],x)\n",
    "                A[t]['int'][IC][key]=value\n",
    "        dataf=zscores_thr[t]['int']['IC%s'%(ses[1])].merge(zscores_thr[t]['int']['IC%s'%(ses[2])], left_on=l, right_on=l)\n",
    "        pd.DataFrame.to_csv(dataf,'/Users/gracer/Google Drive/HCP_graph/1200/datasets/%s_%s.csv'%(t,IC),sep=',')\n",
    "        datas[t]['int'][IC]=mu_make_graphs(IC, dataf.corr(), 'positive')\n",
    "        nx.set_node_attributes(datas[t]['int'][IC]['graphs'], t,'group')\n",
    "        hot(dataf.corr(),'%s %s'%(t,IC))\n"
   ]
  },
  {
   "cell_type": "code",
   "execution_count": null,
   "metadata": {},
   "outputs": [],
   "source": [
    "fix=['BMI','AoM','int','race','age','motion']\n",
    "for t, f in A.items():\n",
    "    for x,y in f['int'].items():\n",
    "        for item in fix:\n",
    "            y[item]=item"
   ]
  },
  {
   "cell_type": "code",
   "execution_count": null,
   "metadata": {},
   "outputs": [],
   "source": [
    "for t, first in datas.items():\n",
    "    for IC, value in first['int'].items():\n",
    "        nx.set_node_attributes(value['graphs'],A[t]['int'][IC],'area')"
   ]
  },
  {
   "cell_type": "code",
   "execution_count": null,
   "metadata": {
    "scrolled": true
   },
   "outputs": [],
   "source": [
    "G=datas['early']['int']['IC_3_6']['graphs']\n",
    "R=find_mod(G,5)"
   ]
  },
  {
   "cell_type": "code",
   "execution_count": null,
   "metadata": {
    "scrolled": true
   },
   "outputs": [],
   "source": [
    "x=hood(R,G,'int','yes')"
   ]
  },
  {
   "cell_type": "code",
   "execution_count": null,
   "metadata": {
    "scrolled": true
   },
   "outputs": [],
   "source": [
    "t=hood(x,G,345,'yes')"
   ]
  },
  {
   "cell_type": "code",
   "execution_count": null,
   "metadata": {
    "hideCode": false,
    "hidePrompt": false,
    "scrolled": true
   },
   "outputs": [],
   "source": [
    "for item in t['y']:\n",
    "    print(item)\n",
    "    print(G.nodes(data=True)[item])\n",
    "    mod=G.nodes(data=True)[item]['modules']\n",
    "    find_mod(G, mod)"
   ]
  },
  {
   "cell_type": "code",
   "execution_count": null,
   "metadata": {},
   "outputs": [],
   "source": []
  },
  {
   "cell_type": "code",
   "execution_count": null,
   "metadata": {},
   "outputs": [],
   "source": [
    "grace_graph(G.subgraph(a), 'Int_test')"
   ]
  },
  {
   "cell_type": "code",
   "execution_count": null,
   "metadata": {},
   "outputs": [],
   "source": [
    "testdata=onetoughjar('/Users/gracer/Google Drive/HCP_graph/1200/datasets/finalhl.pkl')"
   ]
  },
  {
   "cell_type": "code",
   "execution_count": null,
   "metadata": {},
   "outputs": [],
   "source": [
    "testdata.keys()"
   ]
  },
  {
   "cell_type": "code",
   "execution_count": null,
   "metadata": {},
   "outputs": [],
   "source": [
    "testdata['community_graphs']['early']['AoM']['IC12']"
   ]
  },
  {
   "cell_type": "markdown",
   "metadata": {},
   "source": [
    "# LAST IDEA"
   ]
  },
  {
   "cell_type": "markdown",
   "metadata": {},
   "source": [
    "Idea, concatonate the cconnected graphs to see how they interact with each other. Port into R for rmcorr, here for viz"
   ]
  },
  {
   "cell_type": "code",
   "execution_count": null,
   "metadata": {},
   "outputs": [],
   "source": [
    "df = pd.DataFrame()\n",
    "datas={'late':\n",
    "  {'int': {'IC_2_3':df, 'IC_3_6':df, 'IC_12_13':df}},\n",
    " 'early': {\n",
    "  'int': {'IC_2_3':df, 'IC_3_6':df, 'IC_12_13':df}}}\n",
    "\n",
    "for t, item in datas.items():\n",
    "    print(t)\n",
    "    for IC, df in item['int'].items():\n",
    "        print(IC)\n",
    "        ses=IC.split('_')\n",
    "        print(ses)\n",
    "        for x in ses[1:2]:\n",
    "            print(x)\n",
    "            dfs[t]['int']['IC%s'%(x)]['IC']='IC%s'%(x)\n",
    "        dataf=pd.concat([dfs[t]['int']['IC%s'%(ses[1])],dfs[t]['int']['IC%s'%(ses[2])]])\n",
    "        pd.DataFrame.to_csv(dataf,'/Users/gracer/Google Drive/HCP_graph/1200/datasets/%s.csv'%(IC),sep=',')\n",
    "        datas[t]['int'][IC] = dataf.append(df, ignore_index = False)"
   ]
  },
  {
   "cell_type": "markdown",
   "metadata": {},
   "source": [
    "# Checking z degree\n"
   ]
  },
  {
   "cell_type": "markdown",
   "metadata": {},
   "source": [
    "where κni is the number of edges connecting the  i th node to other  nodes in the  n th module, κn is the average of κni over all nodes in  the module  n , and   σκn   is the standard deviation of the intra-modular  degrees in the  n th module."
   ]
  },
  {
   "cell_type": "code",
   "execution_count": 60,
   "metadata": {
    "scrolled": true
   },
   "outputs": [
    {
     "name": "stdout",
     "output_type": "stream",
     "text": [
      "{0: {'race': -1.4142135623730956, 162: 0.7071067811865469, 'age': -1.4142135623730956, 'int': 0.7071067811865469, 'motion': 0.7071067811865469, 'BMI': 0.7071067811865469}, 1: {'AoM': 0.0}, 2: {48: 0.0, 264: 0.0, 228: 0.0}, 3: {231: 0.0, 232: 0.0, 233: 0.0, 263: 0.0, 359: 0.0, 51: 0.0, 53: 0.0}, 4: {265: 0.0, 266: 0.0, 268: 0.0, 269: 0.0, 88: 0.0}, 5: {168: 0.0, 270: 0.0, 150: 0.0, 90: 0.0, 285: 0.0}, 6: {328: 0.0, 169: 0.0, 330: 0.0, 331: 0.0, 375: 0.0, 347: 0.0, 348: 0.0, 349: 0.0}, 7: {267: 0.0}, 8: {275: 0.0}}\n",
      "{0: {'int': 0.0, 'age': 0.0, 'motion': 0.0, 'BMI': 0.0}, 1: {'race': 0.0, 'AoM': 0.0}, 2: {199: 0.0, 203: 0.0, 204: 0.0, 19: 0.0, 23: 0.0, 24: 0.0}, 3: {40: 0.0, 219: 0.0, 220: 0.0, 39: 0.0}}\n",
      "{0: {224: 0.6324555320336755, 'race': -1.5811388300841898, 163: 0.6324555320336755, 'age': -1.5811388300841898, 'int': 0.6324555320336755, 'motion': 0.6324555320336755, 'BMI': 0.6324555320336755}, 1: {'AoM': 0.0}, 2: {96: 0.0, 165: 0.0, 166: 0.0, 43: 0.0, 155: 0.0, 123: 0.0}, 3: {312: 0.0, 132: 0.0, 297: 0.0, 236: 0.0, 365: 0.0, 117: 0.0, 311: 0.0, 56: 0.0, 185: 0.0}, 4: {243: 0.0, 60: 0.0, 63: 0.0}, 5: {280: 0.0, 369: 0.0, 100: 0.0, 303: 0.0}, 6: {102: 0.0, 314: 0.0, 346: 0.0, 335: 0.0, 276: 0.0, 341: 0.0, 345: 0.0, 282: 0.0}, 7: {161: 0.0, 338: 0.0, 339: 0.0, 158: 0.0}, 8: {275: 0.0}}\n",
      "{0: {'int': 0.0, 'age': 0.0, 'motion': 0.0, 'BMI': 0.0}, 1: {'race': 0.0, 'AoM': 0.0}, 2: {19: 0.0, 319: 0.0, 199: 0.0}, 3: {202: 0.0, 203: 0.0, 211: 0.0, 22: 0.0, 23: 0.0, 31: 0.0}, 4: {201: 0.0, 314: 0.0, 315: 0.0, 134: 0.0}}\n",
      "{0: {'race': -1.2247448713915883, 'age': -1.2247448713915883, 'int': 0.8164965809277267, 'motion': 0.8164965809277267, 'BMI': 0.8164965809277267}, 1: {'AoM': 0.0}, 2: {69: 0.0, 165: 0.0, 71: 0.0, 186: 0.0, 297: 0.0, 74: 0.0, 298: 0.0, 206: 0.0, 207: 0.0, 251: 0.0, 366: 0.0, 117: 0.0, 118: 0.0, 249: 0.0, 26: 0.0, 27: 0.0, 254: 0.0}, 3: {241: 0.0, 210: 0.0, 311: 0.0, 61: 0.0, 30: 0.0}, 4: {192: 0.0, 193: 0.0, 322: 0.0, 131: 0.0, 42: 0.0, 300: 0.0, 142: 0.0, 143: 0.0, 302: 0.0, 303: 0.0, 372: 0.0, 373: 0.0, 120: 0.0, 122: 0.0, 123: 0.0, 222: 0.0}}\n",
      "{0: {'race': -1.6035674514745466, 162: -0.2672612419124246, 'age': -0.2672612419124246, 'motion': 1.0690449676496974, 'BMI': 1.0690449676496974}, 1: {'int': 0.0, 'AoM': 0.0}, 2: {228: 0.0, 359: 0.0, 232: 0.0, 233: 0.0, 48: 0.0}, 3: {263: 0.0, 231: 0.0, 51: 0.0, 52: 0.0, 53: 0.0}, 4: {265: 0.0, 266: 0.0, 267: 0.0, 268: 0.0, 269: 0.0, 88: 0.0, 90: 0.0}, 5: {168: 0.0, 169: 0.0, 330: 0.0, 328: 0.0, 331: 0.0, 150: 0.0, 375: 0.0, 347: 0.0, 348: 0.0, 349: 0.0}, 6: {264: 0.0, 369: 0.0, 275: 0.0}, 7: {285: 0.0, 270: 0.0}}\n",
      "{0: {'age': 0.0, 'motion': 0.0, 'BMI': 0.0}, 1: {'int': 0.0, 'AoM': 0.0}, 2: {'race': 0.0}, 3: {199: 0.0, 203: 0.0, 204: 0.0, 19: 0.0, 23: 0.0, 24: 0.0}, 4: {219: 0.0, 39: 0.0}, 5: {40: 0.0, 220: 0.0}}\n",
      "{0: {224: 0.8164965809277267, 'race': -1.2247448713915883, 'age': -1.2247448713915883, 'motion': 0.8164965809277267, 'BMI': 0.8164965809277267}, 1: {96: 0.0, 369: 0.0, 338: 0.0, 'AoM': 0.0}, 2: {'int': 0.0}, 3: {100: 0.0, 165: 0.0, 166: 0.0, 43: 0.0, 280: 0.0, 282: 0.0, 158: 0.0}, 4: {236: 0.0, 303: 0.0, 347: 0.0, 243: 0.0, 56: 0.0, 123: 0.0, 60: 0.0, 63: 0.0}, 5: {312: 0.0, 161: 0.0, 132: 0.0, 341: 0.0}, 6: {335: 0.0, 276: 0.0, 345: 0.0, 346: 0.0, 155: 0.0}}\n",
      "{0: {'age': 0.0, 'motion': 0.0, 'BMI': 0.0}, 1: {'int': 0.0, 'AoM': 0.0}, 2: {'race': 0.0}, 3: {19: 0.0, 139: 0.0, 319: 0.0, 199: 0.0}, 4: {202: 0.0, 203: 0.0, 211: 0.0, 22: 0.0, 23: 0.0, 314: 0.0, 31: 0.0}, 5: {201: 0.0}}\n",
      "{0: {'race': -1.0, 'age': -1.0, 'motion': 1.0, 'BMI': 1.0}, 1: {'int': 0.0, 'AoM': 0.0}, 2: {69: 0.0, 71: 0.0, 186: 0.0, 297: 0.0, 74: 0.0, 298: 0.0, 206: 0.0, 207: 0.0, 251: 0.0, 366: 0.0, 117: 0.0, 118: 0.0, 26: 0.0, 27: 0.0, 254: 0.0}, 3: {131: 0.0, 165: 0.0, 241: 0.0, 210: 0.0, 311: 0.0, 61: 0.0, 30: 0.0}, 4: {192: 0.0, 193: 0.0, 322: 0.0, 42: 0.0, 142: 0.0, 143: 0.0, 302: 0.0, 303: 0.0, 372: 0.0, 373: 0.0, 249: 0.0, 122: 0.0, 123: 0.0}, 5: {120: 0.0, 300: 0.0}}\n"
     ]
    }
   ],
   "source": [
    "dictDF={'late':{'IC2':{},'IC3':{},'IC6':{},'IC12':{},'IC13':{}}, \n",
    "             'early':{'IC2':{},'IC3':{},'IC6':{},'IC12':{},'IC13':{}}}\n",
    "\n",
    "for t, item in dictMeanMod.items():\n",
    "    for IC, value in item.items():\n",
    "        print(value['z'])\n",
    "        dictDF[t][IC]=pd.DataFrame.from_dict(value['z'])"
   ]
  },
  {
   "cell_type": "code",
   "execution_count": null,
   "metadata": {},
   "outputs": [],
   "source": [
    "for t, item in graphs.items():\n",
    "    for group, v in item.items():\n",
    "        print(group)\n",
    "        for IC, value in v.items():\n",
    "            G=value['graphs']\n",
    "            G.nodes(data=True)\n",
    "            dictAlpha=dict(G.degree)\n",
    "            dictGamma={}\n",
    "            for M in list(set(value['modules']['values'])):\n",
    "                interest = [x for x,y in G.nodes(data=True) if y['modules']==M]\n",
    "                X=nx.subgraph(G, interest)\n",
    "                dictOmega=dict(X.degree)\n",
    "                for key, value in dictOmega.items():\n",
    "                    test=1-np.square(value/dictAlpha[key])\n",
    "                    dictGamma[key] = test\n",
    "                    print(\"this is the module %s\"%M)\n",
    "            nx.set_node_attributes(G, dictGamma, 'PC')"
   ]
  },
  {
   "cell_type": "code",
   "execution_count": 21,
   "metadata": {},
   "outputs": [],
   "source": [
    "ALL_DATA=onetoughjar('/Users/gracer/Google Drive/HCP_graph/1200/datasets/finalApril6.pkl')"
   ]
  },
  {
   "cell_type": "code",
   "execution_count": 22,
   "metadata": {},
   "outputs": [],
   "source": [
    "dfs=ALL_DATA['dfs']\n",
    "graphs=ALL_DATA['graphs']\n",
    "zscores_thr=ALL_DATA['zscores_thr']\n",
    "nega_graphs=ALL_DATA['nega_graphs']\n",
    "dfs=ALL_DATA['dfs']\n",
    "subgraphs=ALL_DATA['subgraphs']\n",
    "community_graphs=ALL_DATA['community_graphs']"
   ]
  },
  {
   "cell_type": "code",
   "execution_count": null,
   "metadata": {},
   "outputs": [],
   "source": [
    "interest = [x for x,y in G.nodes(data=True) if y['modules']==M]"
   ]
  },
  {
   "cell_type": "code",
   "execution_count": 149,
   "metadata": {
    "scrolled": true
   },
   "outputs": [
    {
     "name": "stdout",
     "output_type": "stream",
     "text": [
      "late\n",
      "IC2\n",
      "in module 0 there are 6\n",
      "in module 1 there are 1\n",
      "in module 2 there are 3\n",
      "in module 3 there are 7\n",
      "in module 4 there are 5\n",
      "in module 5 there are 5\n",
      "in module 6 there are 8\n",
      "in module 7 there are 1\n",
      "in module 8 there are 1\n",
      "IC3\n",
      "in module 0 there are 4\n",
      "in module 1 there are 2\n",
      "in module 2 there are 6\n",
      "in module 3 there are 4\n",
      "IC6\n",
      "in module 0 there are 7\n",
      "in module 1 there are 1\n",
      "in module 2 there are 6\n",
      "in module 3 there are 9\n",
      "in module 4 there are 3\n",
      "in module 5 there are 4\n",
      "in module 6 there are 8\n",
      "in module 7 there are 4\n",
      "in module 8 there are 1\n",
      "IC12\n",
      "in module 0 there are 4\n",
      "in module 1 there are 2\n",
      "in module 2 there are 3\n",
      "in module 3 there are 6\n",
      "in module 4 there are 4\n",
      "IC13\n",
      "in module 0 there are 5\n",
      "in module 1 there are 1\n",
      "in module 2 there are 17\n",
      "in module 3 there are 5\n",
      "in module 4 there are 16\n",
      "early\n",
      "IC2\n",
      "in module 0 there are 5\n",
      "in module 1 there are 2\n",
      "in module 2 there are 5\n",
      "in module 3 there are 5\n",
      "in module 4 there are 7\n",
      "in module 5 there are 10\n",
      "in module 6 there are 3\n",
      "in module 7 there are 2\n",
      "IC3\n",
      "in module 0 there are 3\n",
      "in module 1 there are 2\n",
      "in module 2 there are 1\n",
      "in module 3 there are 6\n",
      "in module 4 there are 2\n",
      "in module 5 there are 2\n",
      "IC6\n",
      "in module 0 there are 5\n",
      "in module 1 there are 4\n",
      "in module 2 there are 1\n",
      "in module 3 there are 7\n",
      "in module 4 there are 8\n",
      "in module 5 there are 4\n",
      "in module 6 there are 5\n",
      "IC12\n",
      "in module 0 there are 3\n",
      "in module 1 there are 2\n",
      "in module 2 there are 1\n",
      "in module 3 there are 4\n",
      "in module 4 there are 7\n",
      "in module 5 there are 1\n",
      "IC13\n",
      "in module 0 there are 4\n",
      "in module 1 there are 2\n",
      "in module 2 there are 15\n",
      "in module 3 there are 7\n",
      "in module 4 there are 13\n",
      "in module 5 there are 2\n"
     ]
    }
   ],
   "source": [
    "for t, item in graphs.items():\n",
    "    print(t)\n",
    "    for IC, value in item['int'].items():\n",
    "        print(IC)\n",
    "        n3,mod = zip(*nx.get_node_attributes(value['graphs'], 'modules').items())\n",
    "#         print(set(mod))\n",
    "        for M in set(mod):\n",
    "            G=value['graphs']\n",
    "            interest = [x for x,y in G.nodes(data=True) if y['modules']==M]\n",
    "            print('in module %i there are %i'%(M, len(interest)))"
   ]
  },
  {
   "cell_type": "code",
   "execution_count": 141,
   "metadata": {},
   "outputs": [],
   "source": [
    "interest = [x for x,y in G.nodes(data=True) if y['modules']==M]"
   ]
  },
  {
   "cell_type": "code",
   "execution_count": 142,
   "metadata": {},
   "outputs": [
    {
     "data": {
      "text/plain": [
       "['AoM', 'int']"
      ]
     },
     "execution_count": 142,
     "metadata": {},
     "output_type": "execute_result"
    }
   ],
   "source": [
    "interest"
   ]
  },
  {
   "cell_type": "code",
   "execution_count": 131,
   "metadata": {},
   "outputs": [
    {
     "data": {
      "text/plain": [
       "area    R_1_ROI\n",
       "Name: 69, dtype: object"
      ]
     },
     "execution_count": 131,
     "metadata": {},
     "output_type": "execute_result"
    }
   ],
   "source": [
    "labels.iloc[69]"
   ]
  },
  {
   "cell_type": "code",
   "execution_count": null,
   "metadata": {},
   "outputs": [],
   "source": []
  }
 ],
 "metadata": {
  "hide_code_all_hidden": false,
  "kernelspec": {
   "display_name": "Python 3",
   "language": "python",
   "name": "python3"
  },
  "language_info": {
   "codemirror_mode": {
    "name": "ipython",
    "version": 3
   },
   "file_extension": ".py",
   "mimetype": "text/x-python",
   "name": "python",
   "nbconvert_exporter": "python",
   "pygments_lexer": "ipython3",
   "version": "3.7.2"
  }
 },
 "nbformat": 4,
 "nbformat_minor": 2
}
